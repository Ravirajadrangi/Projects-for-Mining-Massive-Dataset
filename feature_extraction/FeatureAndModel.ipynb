{
 "cells": [
  {
   "cell_type": "code",
   "execution_count": 4,
   "metadata": {
    "collapsed": true
   },
   "outputs": [],
   "source": [
    "import csv\n",
    "from collections import defaultdict\n",
    "import numpy as np\n",
    "from sklearn import preprocessing\n",
    "\n",
    "responseUserID = {}\n",
    "userScore = {}\n",
    "videoCounts = defaultdict(int)\n",
    "videoCountsClassification = defaultdict(int)\n",
    "screen_name_to_gender = defaultdict(int)\n",
    "screen_name_to_year_of_birth = defaultdict(int)\n",
    "screen_name_to_education = defaultdict(int)\n",
    "screen_name_to_post_count = defaultdict(int)\n",
    "screen_name_to_comment_count = defaultdict(int)\n",
    "screen_name_to_nationality = {}"
   ]
  },
  {
   "cell_type": "code",
   "execution_count": 5,
   "metadata": {
    "collapsed": true
   },
   "outputs": [],
   "source": [
    "## Get ResponseID - UserID matching\n",
    "with open('../../data/survey_post_EarthSciences_ResGeo202_Spring2015_respondent_metadata.csv', 'r') as csvfile :\t\n",
    "    lines = csv.reader(csvfile, delimiter = ',', quotechar = '\"')\n",
    "    \n",
    "    for line in lines :\n",
    "        if line[1] not in responseUserID:\n",
    "            responseUserID[line[1]] = line[2]\n",
    "\n",
    "\n",
    "# Get Survey Data, only get the ID that has a matching \n",
    "with open('../../data/survey_post_EarthSciences_ResGeo202_Spring2015_response.csv', 'r') as csvfile :\t\n",
    "    lines = csv.reader(csvfile, delimiter = ',', quotechar = '\"')\n",
    "    for line in lines :\n",
    "        if (line[2] == \"Q1.1\" and line[4] != ''):\n",
    "            if line[1] in responseUserID:\n",
    "                score = int(line[4])\n",
    "                if score < 6:\n",
    "                    userScore[responseUserID[line[1]]] = 5\n",
    "                else:\n",
    "                    userScore[responseUserID[line[1]]] = int(line[4])\n",
    "                "
   ]
  },
  {
   "cell_type": "code",
   "execution_count": 6,
   "metadata": {
    "collapsed": true
   },
   "outputs": [],
   "source": [
    "# extracting demographic feature\n",
    "with open('../../data/EarthSciences_ResGeo202_Spring2015_demographics.csv', 'r') as csvfile :\n",
    "\tlines = csv.reader(csvfile, delimiter = ',', quotechar = '\"')\n",
    "\tfor line in lines :\n",
    "\t\tif line[0] in userScore : \n",
    "\n",
    "\t\t\t# gender feature: blank -> 0, m -> -1, f -> +1\n",
    "\t\t\tif line[1] == \"m\" :\n",
    "\t\t\t\tscreen_name_to_gender[line[0]] = -1\n",
    "\t\t\tif line[1] == \"f\" :\n",
    "\t\t\t\tscreen_name_to_gender[line[0]] = 1\n",
    "\t\t\tif line[1] not in screen_name_to_gender and line[0] != \"\\\\N\" :\n",
    "\t\t\t\tscreen_name_to_gender[line[0]] = 0\n",
    "\n",
    "\t\t\t# year_of_birth\n",
    "\t\t\tif line[2] != \"\\\\N\" :\n",
    "\t\t\t\tscreen_name_to_year_of_birth[line[0]] = 2016 - int(line[2])\n",
    "\n",
    "\t\t\t# ?????????????????????????????????????????????????\n",
    "\t\t\t## should set it to 0 if birth year not provided???\n",
    "\t\t\tif line[2] == \"\\\\N\" and line[0] != \"\\\\N\":\n",
    "\t\t\t\tscreen_name_to_year_of_birth[line[0]] = 0\n",
    "\t\t\t\n",
    "\t\t\t# level_of_education: \n",
    "\t\t\t# Doctorate -> 7\n",
    "\t\t\t# Masters or professional degree -> 6\n",
    "\t\t\t# Bachelors -> 5\n",
    "\t\t\t# Associates -> 4\n",
    "\t\t\t# Secondary/High School -> 3\n",
    "\t\t\t# Junior secondary/junior high/middle School -> 2\n",
    "\t\t\t# Elementary/Primary School -> 1\n",
    "\t\t\t# None, Other, User withheld, Signup before level collected -> 0\n",
    "\t\t\tif line[3] == \"Doctorate\" :\n",
    "\t\t\t\tscreen_name_to_education[line[0]] = 7\n",
    "\t\t\tif line[3] == \"Masters or professional degree\" :\n",
    "\t\t\t\tscreen_name_to_education[line[0]] = 6\n",
    "\t\t\tif line[3] == \"Bachelors\" :\n",
    "\t\t\t\tscreen_name_to_education[line[0]] = 5\n",
    "\t\t\tif line[3] == \"Associates\" :\n",
    "\t\t\t\tscreen_name_to_education[line[0]] = 4 \n",
    "\t\t\tif line[3] == \"Secondary/High School\" :\n",
    "\t\t\t\tscreen_name_to_education[line[0]] = 3 \n",
    "\t\t\tif line[3] == \"Junior secondary/junior high/middle School\" :\n",
    "\t\t\t\tscreen_name_to_education[line[0]] = 2\n",
    "\t\t\tif line[3] == \"Elementary/Primary School\" :\n",
    "\t\t\t\tscreen_name_to_education[line[0]] = 1\n",
    "\t\t\tif line[0] not in screen_name_to_education and line[0] != \"\\\\N\":\n",
    "\t\t\t\tscreen_name_to_education[line[0]] = 0"
   ]
  },
  {
   "cell_type": "code",
   "execution_count": 7,
   "metadata": {
    "collapsed": true
   },
   "outputs": [],
   "source": [
    "# Extracting forum feature\n",
    "with open('../../data/EarthSciences_ResGeo202_Spring2015_Forum.csv', 'r') as csvfile :\n",
    "\tlines = csv.reader(csvfile, delimiter = ',', quotechar = '\"')\n",
    "\tfor line in lines :\n",
    "\t\tif len(line) > 2 and line[1] in userScore:\n",
    "\t\t\t# print line[1], line[2]\n",
    "\t\t\tif line[2] == \"CommentThread\":\n",
    "\t\t\t\tscreen_name_to_post_count[line[1]] += 1\n",
    "\t\t\tif line[2] == \"Comment\":\n",
    "\t\t\t\tscreen_name_to_comment_count[line[1]] += 1"
   ]
  },
  {
   "cell_type": "code",
   "execution_count": 8,
   "metadata": {
    "collapsed": false
   },
   "outputs": [],
   "source": [
    "\n",
    "# Get nationality features\n",
    "with open('../../data/EarthSciences_ResGeo202_Spring2015_demographics.csv', 'r') as csvfile :\n",
    "    lines = csv.reader(csvfile, delimiter = ',', quotechar = '\"')\n",
    "    for line in lines :\n",
    "        if line[0] in userScore and line[4] != \"\\\\N\":\n",
    "            screen_name_to_nationality[line[0]] = line[4]"
   ]
  },
  {
   "cell_type": "code",
   "execution_count": 9,
   "metadata": {
    "collapsed": true
   },
   "outputs": [],
   "source": [
    "# Extracting video counts\n",
    "first = True\n",
    "with open('../countVideos/EarthSciences_ResGeo202_Spring2015_UserVideo_Matrix.csv', 'r') as csvfile :\n",
    "\tlines = csv.reader(csvfile, delimiter = ',', quotechar = '\"')\n",
    "\tfor line in lines :\n",
    "\t\tif first:\n",
    "\t\t\tfirst = False\n",
    "\t\t\tcontinue\n",
    "\t\tkey = line[0]\n",
    "\t\tcount = 0\n",
    "\t\tfor i in xrange(1, len(line)):\n",
    "\t\t\tcount += int(line[i])\n",
    "\t\tvideoCounts[key] = count\n",
    "\t\tcountClass = 0\n",
    "\t\tif count > 18:\n",
    "\t\t\tcountClass = 1\n",
    "\t\tvideoCountsClassification[key] = countClass\n",
    "        "
   ]
  },
  {
   "cell_type": "code",
   "execution_count": 10,
   "metadata": {
    "collapsed": false
   },
   "outputs": [
    {
     "name": "stderr",
     "output_type": "stream",
     "text": [
      "/Library/Python/2.7/site-packages/sklearn/utils/validation.py:386: DeprecationWarning: Passing 1d arrays as data is deprecated in 0.17 and willraise ValueError in 0.19. Reshape your data either using X.reshape(-1, 1) if your data has a single feature or X.reshape(1, -1) if it contains a single sample.\n",
      "  DeprecationWarning)\n",
      "/Library/Python/2.7/site-packages/numpy-1.11.0-py2.7-macosx-10.11-intel.egg/numpy/core/fromnumeric.py:2652: VisibleDeprecationWarning: `rank` is deprecated; use the `ndim` attribute or function instead. To find the rank of a matrix see `numpy.linalg.matrix_rank`.\n",
      "  VisibleDeprecationWarning)\n"
     ]
    }
   ],
   "source": [
    "le = preprocessing.LabelEncoder()\n",
    "le.fit(screen_name_to_nationality.values())\n",
    "encoding_min = min(le.transform(screen_name_to_nationality.values()))\n",
    "encoding_max = max(le.transform(screen_name_to_nationality.values()))\n",
    "enc = preprocessing.OneHotEncoder(n_values = encoding_max + 1, sparse = False,dtype='int32')\n",
    "enc.fit([encoding_min],[encoding_max])\n",
    "\n",
    "\n",
    "numSamples = len(userScore.keys())\n",
    "numFeatures = 5 + (encoding_max+1)\n",
    "X = np.zeros((numSamples, numFeatures))\n",
    "# Y = np.array([0])\n",
    "Y = []\n",
    "count = 0\n",
    "for id in userScore:\n",
    "    newrow = [screen_name_to_gender[id], screen_name_to_year_of_birth[id], screen_name_to_education[id], \n",
    "              screen_name_to_post_count[id], screen_name_to_comment_count[id]]\n",
    "    if id in screen_name_to_nationality:\n",
    "        newrow += enc.transform(le.transform(screen_name_to_nationality[id]))[0,:].tolist()\n",
    "    else:\n",
    "        newrow += [0] * (encoding_max + 1)\n",
    "    X[count, :] = newrow\n",
    "    count += 1\n",
    "#     Y.append(userScore[id])\n",
    "    Y.append(videoCountsClassification[id])"
   ]
  },
  {
   "cell_type": "code",
   "execution_count": 11,
   "metadata": {
    "collapsed": false
   },
   "outputs": [
    {
     "name": "stdout",
     "output_type": "stream",
     "text": [
      "Logistic regression using raw pixel features:\n",
      "             precision    recall  f1-score   support\n",
      "\n",
      "          0       0.53      0.58      0.56        69\n",
      "          1       0.55      0.50      0.52        70\n",
      "\n",
      "avg / total       0.54      0.54      0.54       139\n",
      "\n",
      "\n"
     ]
    }
   ],
   "source": [
    "from sklearn import linear_model, datasets, metrics\n",
    "from sklearn.cross_validation import train_test_split\n",
    "from sklearn import linear_model, datasets, metrics\n",
    "from sklearn.neural_network import BernoulliRBM\n",
    "from sklearn.pipeline import Pipeline\n",
    "from sklearn.grid_search import GridSearchCV\n",
    "\n",
    "\n",
    "logistic_classifier = linear_model.LogisticRegression()\n",
    "X_train, X_test, Y_train, Y_test = train_test_split(X, Y,\n",
    "                                                    test_size=0.15,\n",
    "                                                    random_state=0)\n",
    "\n",
    "param_grid = {'penalty':['l1','l2'], 'C': [0.001, 0.01, 0.1, 1, 10, 100, 1000] }\n",
    "GridSearch = GridSearchCV(logistic_classifier, param_grid, cv = 10)\n",
    "GridSearch.fit(X_train, Y_train)\n",
    "bestLRclf = GridSearch.best_estimator_\n",
    "\n",
    "print(\"Logistic regression using raw pixel features:\\n%s\\n\" % (\n",
    "    metrics.classification_report(\n",
    "        Y_test,\n",
    "        bestLRclf.predict(X_test))))\n",
    "#logistic_classifier.fit(X_train, Y_train)\n",
    "\n",
    "\n",
    "#print logistic_classifier.coef_"
   ]
  },
  {
   "cell_type": "code",
   "execution_count": 12,
   "metadata": {
    "collapsed": false
   },
   "outputs": [
    {
     "data": {
      "text/plain": [
       "array([[ 0.        ,  0.01421821,  0.19353875,  0.09877007,  0.02105472,\n",
       "        -2.08925479,  0.        ,  0.30814319,  0.18188714,  3.58352564,\n",
       "         2.0697478 ,  2.04056378,  3.68958638,  2.90386654, -0.20121922,\n",
       "         1.85021073,  1.01504545,  0.        , -1.00003043, -0.80402304,\n",
       "        -2.79723816, -0.49570735,  2.12587386,  2.09743664,  0.2712918 ,\n",
       "         0.89830638, -2.42497643, -3.46702513,  3.37359821, -1.32163752,\n",
       "         0.71725501,  0.94876401,  2.15431023, -0.31462709,  0.2579936 ,\n",
       "         0.12825067, -2.59189937, -0.29405608, -2.25435711, -2.22592145,\n",
       "        -0.64968619, -0.6588328 , -0.5065908 ,  0.        , -0.87584078,\n",
       "        -0.11568202,  0.32838918,  0.        , -1.49635963,  3.55206639,\n",
       "         1.93921644,  2.20100486,  0.18823259,  0.        ,  0.        ,\n",
       "        -0.25979976, -0.19448646, -2.38408463, -1.10918492,  0.32034836,\n",
       "         1.01410312,  2.06900021, -4.42201593, -0.35496009, -4.28167367,\n",
       "         0.66012263,  0.98472197, -2.2885398 , -0.87004612, -0.28386278,\n",
       "        -0.40898996, -0.49785823, -2.29313655,  3.09800478, -2.07427936,\n",
       "         0.        , -0.61587722,  2.21988525, -2.27541134,  0.4797527 ,\n",
       "        -2.95183161, -0.24815738,  2.20566605, -1.09773092,  0.14606761]])"
      ]
     },
     "execution_count": 12,
     "metadata": {},
     "output_type": "execute_result"
    }
   ],
   "source": [
    "bestLRclf.coef_"
   ]
  },
  {
   "cell_type": "code",
   "execution_count": 169,
   "metadata": {
    "collapsed": false
   },
   "outputs": [
    {
     "name": "stderr",
     "output_type": "stream",
     "text": [
      "/Users/hes/anaconda/lib/python2.7/site-packages/sklearn/utils/validation.py:386: DeprecationWarning: Passing 1d arrays as data is deprecated in 0.17 and willraise ValueError in 0.19. Reshape your data either using X.reshape(-1, 1) if your data has a single feature or X.reshape(1, -1) if it contains a single sample.\n",
      "  DeprecationWarning)\n"
     ]
    },
    {
     "data": {
      "text/plain": [
       "array([6])"
      ]
     },
     "execution_count": 169,
     "metadata": {},
     "output_type": "execute_result"
    }
   ],
   "source": [
    "bestLRclf.predict(X_test[1,:])"
   ]
  },
  {
   "cell_type": "code",
   "execution_count": null,
   "metadata": {
    "collapsed": true
   },
   "outputs": [],
   "source": []
  }
 ],
 "metadata": {
  "kernelspec": {
   "display_name": "Python 2",
   "language": "python",
   "name": "python2"
  },
  "language_info": {
   "codemirror_mode": {
    "name": "ipython",
    "version": 2
   },
   "file_extension": ".py",
   "mimetype": "text/x-python",
   "name": "python",
   "nbconvert_exporter": "python",
   "pygments_lexer": "ipython2",
   "version": "2.7.10"
  }
 },
 "nbformat": 4,
 "nbformat_minor": 0
}
