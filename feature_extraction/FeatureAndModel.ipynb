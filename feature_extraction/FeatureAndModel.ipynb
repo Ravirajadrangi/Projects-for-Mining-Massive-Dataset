{
 "cells": [
  {
   "cell_type": "code",
   "execution_count": 53,
   "metadata": {
    "collapsed": true
   },
   "outputs": [],
   "source": [
    "import csv\n",
    "from collections import defaultdict\n",
    "import numpy as np\n",
    "from sklearn import preprocessing\n",
    "\n",
    "responseUserID = {}\n",
    "userScore = {}\n",
    "screen_name_to_gender = defaultdict(int)\n",
    "screen_name_to_year_of_birth = defaultdict(int)\n",
    "screen_name_to_education = defaultdict(int)\n",
    "screen_name_to_post_count = defaultdict(int)\n",
    "screen_name_to_comment_count = defaultdict(int)\n",
    "screen_name_to_nationality = {}"
   ]
  },
  {
   "cell_type": "code",
   "execution_count": 138,
   "metadata": {
    "collapsed": true
   },
   "outputs": [],
   "source": [
    "## Get ResponseID - UserID matching\n",
    "with open('../../data/survey_post_EarthSciences_ResGeo202_Spring2015_respondent_metadata.csv', 'r') as csvfile :\t\n",
    "    lines = csv.reader(csvfile, delimiter = ',', quotechar = '\"')\n",
    "    \n",
    "    for line in lines :\n",
    "        if line[1] not in responseUserID:\n",
    "            responseUserID[line[1]] = line[2]\n",
    "\n",
    "\n",
    "# Get Survey Data, only get the ID that has a matching \n",
    "with open('../../data/survey_post_EarthSciences_ResGeo202_Spring2015_response.csv', 'r') as csvfile :\t\n",
    "    lines = csv.reader(csvfile, delimiter = ',', quotechar = '\"')\n",
    "    for line in lines :\n",
    "        if (line[2] == \"Q1.1\" and line[4] != ''):\n",
    "            if line[1] in responseUserID:\n",
    "                score = int(line[4])\n",
    "                if score < 6:\n",
    "                    userScore[responseUserID[line[1]]] = 5\n",
    "                else:\n",
    "                    userScore[responseUserID[line[1]]] = int(line[4])\n",
    "                "
   ]
  },
  {
   "cell_type": "code",
   "execution_count": 139,
   "metadata": {
    "collapsed": true
   },
   "outputs": [],
   "source": [
    "# extracting demographic feature\n",
    "with open('../../data/EarthSciences_ResGeo202_Spring2015_demographics.csv', 'r') as csvfile :\n",
    "\tlines = csv.reader(csvfile, delimiter = ',', quotechar = '\"')\n",
    "\tfor line in lines :\n",
    "\t\tif line[0] in userScore : \n",
    "\n",
    "\t\t\t# gender feature: blank -> 0, m -> -1, f -> +1\n",
    "\t\t\tif line[1] == \"m\" :\n",
    "\t\t\t\tscreen_name_to_gender[line[0]] = -1\n",
    "\t\t\tif line[1] == \"f\" :\n",
    "\t\t\t\tscreen_name_to_gender[line[0]] = 1\n",
    "\t\t\tif line[1] not in screen_name_to_gender and line[0] != \"\\\\N\" :\n",
    "\t\t\t\tscreen_name_to_gender[line[0]] = 0\n",
    "\n",
    "\t\t\t# year_of_birth\n",
    "\t\t\tif line[2] != \"\\\\N\" :\n",
    "\t\t\t\tscreen_name_to_year_of_birth[line[0]] = 2016 - int(line[2])\n",
    "\n",
    "\t\t\t# ?????????????????????????????????????????????????\n",
    "\t\t\t## should set it to 0 if birth year not provided???\n",
    "\t\t\tif line[2] == \"\\\\N\" and line[0] != \"\\\\N\":\n",
    "\t\t\t\tscreen_name_to_year_of_birth[line[0]] = 0\n",
    "\t\t\t\n",
    "\t\t\t# level_of_education: \n",
    "\t\t\t# Doctorate -> 7\n",
    "\t\t\t# Masters or professional degree -> 6\n",
    "\t\t\t# Bachelors -> 5\n",
    "\t\t\t# Associates -> 4\n",
    "\t\t\t# Secondary/High School -> 3\n",
    "\t\t\t# Junior secondary/junior high/middle School -> 2\n",
    "\t\t\t# Elementary/Primary School -> 1\n",
    "\t\t\t# None, Other, User withheld, Signup before level collected -> 0\n",
    "\t\t\tif line[3] == \"Doctorate\" :\n",
    "\t\t\t\tscreen_name_to_education[line[0]] = 7\n",
    "\t\t\tif line[3] == \"Masters or professional degree\" :\n",
    "\t\t\t\tscreen_name_to_education[line[0]] = 6\n",
    "\t\t\tif line[3] == \"Bachelors\" :\n",
    "\t\t\t\tscreen_name_to_education[line[0]] = 5\n",
    "\t\t\tif line[3] == \"Associates\" :\n",
    "\t\t\t\tscreen_name_to_education[line[0]] = 4 \n",
    "\t\t\tif line[3] == \"Secondary/High School\" :\n",
    "\t\t\t\tscreen_name_to_education[line[0]] = 3 \n",
    "\t\t\tif line[3] == \"Junior secondary/junior high/middle School\" :\n",
    "\t\t\t\tscreen_name_to_education[line[0]] = 2\n",
    "\t\t\tif line[3] == \"Elementary/Primary School\" :\n",
    "\t\t\t\tscreen_name_to_education[line[0]] = 1\n",
    "\t\t\tif line[0] not in screen_name_to_education and line[0] != \"\\\\N\":\n",
    "\t\t\t\tscreen_name_to_education[line[0]] = 0"
   ]
  },
  {
   "cell_type": "code",
   "execution_count": 140,
   "metadata": {
    "collapsed": true
   },
   "outputs": [],
   "source": [
    "# Extracting forum feature\n",
    "with open('../../data/EarthSciences_ResGeo202_Spring2015_Forum.csv', 'r') as csvfile :\n",
    "\tlines = csv.reader(csvfile, delimiter = ',', quotechar = '\"')\n",
    "\tfor line in lines :\n",
    "\t\tif len(line) > 2 and line[1] in userScore:\n",
    "\t\t\t# print line[1], line[2]\n",
    "\t\t\tif line[2] == \"CommentThread\":\n",
    "\t\t\t\tscreen_name_to_post_count[line[1]] += 1\n",
    "\t\t\tif line[2] == \"Comment\":\n",
    "\t\t\t\tscreen_name_to_comment_count[line[1]] += 1"
   ]
  },
  {
   "cell_type": "code",
   "execution_count": 141,
   "metadata": {
    "collapsed": false
   },
   "outputs": [],
   "source": [
    "\n",
    "# Get nationality features\n",
    "with open('../../data/EarthSciences_ResGeo202_Spring2015_demographics.csv', 'r') as csvfile :\n",
    "    lines = csv.reader(csvfile, delimiter = ',', quotechar = '\"')\n",
    "    for line in lines :\n",
    "        if line[0] in userScore and line[4] != \"\\\\N\":\n",
    "            screen_name_to_nationality[line[0]] = line[4]"
   ]
  },
  {
   "cell_type": "code",
   "execution_count": 156,
   "metadata": {
    "collapsed": false
   },
   "outputs": [
    {
     "name": "stderr",
     "output_type": "stream",
     "text": [
      "/Users/hes/anaconda/lib/python2.7/site-packages/sklearn/utils/validation.py:386: DeprecationWarning: Passing 1d arrays as data is deprecated in 0.17 and willraise ValueError in 0.19. Reshape your data either using X.reshape(-1, 1) if your data has a single feature or X.reshape(1, -1) if it contains a single sample.\n",
      "  DeprecationWarning)\n"
     ]
    }
   ],
   "source": [
    "le = preprocessing.LabelEncoder()\n",
    "le.fit(screen_name_to_nationality.values())\n",
    "encoding_min = min(le.transform(screen_name_to_nationality.values()))\n",
    "encoding_max = max(le.transform(screen_name_to_nationality.values()))\n",
    "enc = preprocessing.OneHotEncoder(n_values = encoding_max + 1, sparse = False,dtype='int32')\n",
    "enc.fit([encoding_min],[encoding_max])\n",
    "\n",
    "\n",
    "numSamples = len(userScore.keys())\n",
    "numFeatures = 5 + (encoding_max+1)\n",
    "X = np.zeros((numSamples, numFeatures))\n",
    "# Y = np.array([0])\n",
    "Y = []\n",
    "count = 0\n",
    "for id in userScore:\n",
    "    newrow = [screen_name_to_gender[id], screen_name_to_year_of_birth[id], screen_name_to_education[id], \n",
    "              screen_name_to_post_count[id], screen_name_to_comment_count[id]]\n",
    "    if id in screen_name_to_nationality:\n",
    "        newrow += enc.transform(le.transform(screen_name_to_nationality[id]))[0,:].tolist()\n",
    "    else:\n",
    "        newrow += [0] * (encoding_max + 1)\n",
    "    X[count, :] = newrow\n",
    "    count += 1\n",
    "    Y.append(userScore[id])"
   ]
  },
  {
   "cell_type": "code",
   "execution_count": 167,
   "metadata": {
    "collapsed": false
   },
   "outputs": [
    {
     "name": "stdout",
     "output_type": "stream",
     "text": [
      "Logistic regression using raw pixel features:\n",
      "             precision    recall  f1-score   support\n",
      "\n",
      "          5       0.00      0.00      0.00        13\n",
      "          6       0.57      0.68      0.62        76\n",
      "          7       0.46      0.44      0.45        50\n",
      "\n",
      "avg / total       0.48      0.53      0.50       139\n",
      "\n",
      "\n"
     ]
    }
   ],
   "source": [
    "from sklearn import linear_model, datasets, metrics\n",
    "from sklearn.cross_validation import train_test_split\n",
    "from sklearn import linear_model, datasets, metrics\n",
    "from sklearn.neural_network import BernoulliRBM\n",
    "from sklearn.pipeline import Pipeline\n",
    "from sklearn.grid_search import GridSearchCV\n",
    "\n",
    "\n",
    "logistic_classifier = linear_model.LogisticRegression()\n",
    "X_train, X_test, Y_train, Y_test = train_test_split(X, Y,\n",
    "                                                    test_size=0.15,\n",
    "                                                    random_state=0)\n",
    "\n",
    "param_grid = {'penalty':['l1','l2'], 'C': [0.001, 0.01, 0.1, 1, 10, 100, 1000] }\n",
    "GridSearch = GridSearchCV(logistic_classifier, param_grid, cv = 10)\n",
    "GridSearch.fit(X_train, Y_train)\n",
    "bestLRclf = GridSearch.best_estimator_\n",
    "\n",
    "print(\"Logistic regression using raw pixel features:\\n%s\\n\" % (\n",
    "    metrics.classification_report(\n",
    "        Y_test,\n",
    "        bestLRclf.predict(X_test))))\n",
    "#logistic_classifier.fit(X_train, Y_train)\n",
    "\n",
    "\n",
    "#print logistic_classifier.coef_"
   ]
  },
  {
   "cell_type": "code",
   "execution_count": 168,
   "metadata": {
    "collapsed": false
   },
   "outputs": [
    {
     "data": {
      "text/plain": [
       "array([[ 0.        , -0.03701237, -0.0965905 ,  0.01177493, -0.04685178,\n",
       "         0.        ,  0.        , -0.3534682 ,  0.        ,  0.        ,\n",
       "         0.        ,  0.        ,  0.        ,  0.        ,  0.        ,\n",
       "         0.        , -0.86602688,  0.        ,  0.        ,  0.27554929,\n",
       "         0.        ,  0.        ,  0.        ,  0.        , -0.13562982,\n",
       "         0.        ,  0.        ,  0.        ,  0.        ,  0.45685641,\n",
       "         0.        ,  0.        ,  0.        ,  0.        ,  0.        ,\n",
       "         0.        ,  0.        ,  1.96768003,  0.        ,  0.        ,\n",
       "        -0.19808913,  0.        ,  0.        ,  0.        ,  0.        ,\n",
       "         0.        ,  0.        ,  0.        ,  0.        ,  0.        ,\n",
       "         0.        ,  0.        ,  0.        ,  0.        ,  0.        ,\n",
       "         0.        ,  0.        ,  0.        ,  0.        ,  0.        ,\n",
       "         0.        ,  0.        ,  0.        ,  0.        ,  0.        ,\n",
       "         0.        ,  0.        ,  0.        ,  0.45213502,  0.        ,\n",
       "         0.        ,  0.        ,  0.        ,  0.        ,  0.        ,\n",
       "         0.        ,  0.        ,  0.        ,  0.        ,  0.36905073,\n",
       "         0.        ,  0.51064624,  0.        ,  0.        , -0.97635623],\n",
       "       [ 0.        , -0.0144481 , -0.0734731 , -0.07177197,  0.00692666,\n",
       "         0.        , -0.07393705,  0.1686911 ,  0.79965848,  0.42145235,\n",
       "         0.        ,  0.        ,  0.        ,  0.        , -0.15873683,\n",
       "         0.        ,  0.        ,  0.        , -1.13612079,  0.        ,\n",
       "        -0.1071191 ,  0.30402344,  0.        ,  0.        ,  0.9728803 ,\n",
       "         0.        ,  0.        ,  0.95826329,  0.        , -0.15959569,\n",
       "        -0.75400291,  0.        ,  0.        ,  0.28019403,  0.31677908,\n",
       "         0.        ,  0.        ,  0.        ,  0.        ,  0.        ,\n",
       "         0.        ,  0.        ,  0.        ,  0.        ,  0.2980099 ,\n",
       "         0.        ,  0.        ,  0.        ,  0.        ,  0.        ,\n",
       "         0.        ,  0.        ,  0.        ,  0.        ,  0.        ,\n",
       "        -0.75117193, -0.19419372,  0.        ,  0.08859908,  0.        ,\n",
       "        -1.14490438,  0.        ,  0.        ,  0.        ,  1.02331712,\n",
       "         0.67032309,  0.        ,  0.        ,  0.        ,  0.        ,\n",
       "         0.        ,  0.        ,  0.        ,  0.        ,  0.        ,\n",
       "         0.        ,  0.        ,  0.        ,  0.        , -0.10500447,\n",
       "        -0.05560002, -0.25627376,  0.        ,  1.14956136, -0.09597073],\n",
       "       [ 0.        ,  0.02565112,  0.15456248,  0.07564471, -0.00334169,\n",
       "         0.        ,  0.46779864,  0.        , -0.92529447, -0.19681792,\n",
       "         0.        ,  0.        ,  0.        ,  0.        ,  0.1504886 ,\n",
       "         0.        ,  0.21748128,  0.        ,  1.53507302,  0.        ,\n",
       "         0.        , -0.23281906,  0.        ,  0.        , -0.66607371,\n",
       "         0.        ,  0.        , -0.46823203,  0.        ,  0.        ,\n",
       "         0.69585749,  0.        ,  0.        , -0.44063272, -0.32993519,\n",
       "         0.        ,  0.        , -0.1152382 ,  0.        ,  0.        ,\n",
       "         0.03619756,  0.15171971,  0.        ,  0.        ,  0.        ,\n",
       "         0.05528898,  0.        ,  0.        ,  0.        ,  0.        ,\n",
       "         0.        ,  0.        ,  0.        ,  0.        ,  0.        ,\n",
       "         0.81436125,  0.09855219,  0.06937689,  0.        ,  0.        ,\n",
       "         0.45193355,  0.        ,  0.        ,  0.        , -1.4572902 ,\n",
       "        -0.29147108,  0.        ,  0.        ,  0.        ,  0.09665779,\n",
       "         0.        ,  0.        ,  0.        ,  0.        ,  0.        ,\n",
       "         0.        ,  0.        ,  0.        ,  0.        ,  0.        ,\n",
       "         0.45804697,  0.        ,  0.        , -0.86404156,  0.45883523]])"
      ]
     },
     "execution_count": 168,
     "metadata": {},
     "output_type": "execute_result"
    }
   ],
   "source": [
    "bestLRclf.coef_"
   ]
  },
  {
   "cell_type": "code",
   "execution_count": 169,
   "metadata": {
    "collapsed": false
   },
   "outputs": [
    {
     "name": "stderr",
     "output_type": "stream",
     "text": [
      "/Users/hes/anaconda/lib/python2.7/site-packages/sklearn/utils/validation.py:386: DeprecationWarning: Passing 1d arrays as data is deprecated in 0.17 and willraise ValueError in 0.19. Reshape your data either using X.reshape(-1, 1) if your data has a single feature or X.reshape(1, -1) if it contains a single sample.\n",
      "  DeprecationWarning)\n"
     ]
    },
    {
     "data": {
      "text/plain": [
       "array([6])"
      ]
     },
     "execution_count": 169,
     "metadata": {},
     "output_type": "execute_result"
    }
   ],
   "source": [
    "bestLRclf.predict(X_test[1,:])"
   ]
  },
  {
   "cell_type": "code",
   "execution_count": null,
   "metadata": {
    "collapsed": true
   },
   "outputs": [],
   "source": []
  }
 ],
 "metadata": {
  "kernelspec": {
   "display_name": "Python 2",
   "language": "python",
   "name": "python2"
  },
  "language_info": {
   "codemirror_mode": {
    "name": "ipython",
    "version": 2
   },
   "file_extension": ".py",
   "mimetype": "text/x-python",
   "name": "python",
   "nbconvert_exporter": "python",
   "pygments_lexer": "ipython2",
   "version": "2.7.11"
  }
 },
 "nbformat": 4,
 "nbformat_minor": 0
}
