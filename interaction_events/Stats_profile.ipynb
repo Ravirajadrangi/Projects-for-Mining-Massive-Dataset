{
 "cells": [
  {
   "cell_type": "code",
   "execution_count": 1,
   "metadata": {
    "collapsed": false
   },
   "outputs": [
    {
     "name": "stdout",
     "output_type": "stream",
     "text": [
      "5000000\n",
      "10000000\n",
      "15000000\n",
      "20000000\n",
      "25000000\n",
      "30000000\n",
      "35000000\n",
      "40000000\n",
      "45000000\n",
      "50000000\n",
      "55000000\n",
      "60000000\n"
     ]
    }
   ],
   "source": [
    "import csv, re\n",
    "import numpy as np\n",
    "import matplotlib.pyplot as plt\n",
    "%matplotlib inline\n",
    "video_user = {}\n",
    "with open('../../datas/StatLearning_Filtered_IndividualProfile.csv','r') as csvfile :\n",
    "    lines = csv.reader(csvfile, delimiter = ',', quotechar = '\"')\n",
    "    count = 0\n",
    "    for line in lines :\n",
    "        count+= 1\n",
    "        if line == ['videoId', 'second', 'numViews']:\n",
    "            continue\n",
    "        else:\n",
    "            videoID,userID,second,numViews = line\n",
    "\n",
    "            if videoID not in video_user:\n",
    "                video_user[videoID] = {}\n",
    "                \n",
    "            if userID not in video_user[videoID]:\n",
    "                video_user[videoID][userID] = {}\n",
    "                video_user[videoID][userID]['time'] = [int(second)]\n",
    "                video_user[videoID][userID]['views'] = [int(numViews)]\n",
    "            else:\n",
    "                video_user[videoID][userID]['time'].append(int(second))\n",
    "                video_user[videoID][userID]['views'].append(int(numViews))\n",
    "        if count % 5000000 == 0:\n",
    "            print count"
   ]
  },
  {
   "cell_type": "code",
   "execution_count": 2,
   "metadata": {
    "collapsed": true
   },
   "outputs": [],
   "source": [
    "# get user video dict\n",
    "userVideoTime = {}\n",
    "for video in video_user:\n",
    "    for user in video_user[video]:\n",
    "        if user not in userVideoTime:\n",
    "            userVideoTime[user] = {}\n",
    "        userDict = userVideoTime[user]\n",
    "        if video not in userDict:\n",
    "            userDict[video] = 0\n",
    "        userDict[video] += sum(video_user[video][user]['views'])"
   ]
  },
  {
   "cell_type": "code",
   "execution_count": null,
   "metadata": {
    "collapsed": false
   },
   "outputs": [],
   "source": [
    "# export user video time\n",
    "f = open(\"../../stats_data/UserVideoTime.csv\", \"w\")\n",
    "for user in userVideoTime:\n",
    "    for video in userVideoTime[user]:\n",
    "        line = str(user) + \",\" + str(video) + \",\" + str(userVideoTime[user][video]) + \"\\n\"\n",
    "        f.write(line)\n",
    "f.close()"
   ]
  },
  {
   "cell_type": "code",
   "execution_count": 3,
   "metadata": {
    "collapsed": false
   },
   "outputs": [
    {
     "name": "stdout",
     "output_type": "stream",
     "text": [
      "['i4x-HumanitiesSciences-StatLearning-video-4ebc550ec53646b0a7523c18f4638f70', 'i4x-HumanitiesSciences-StatLearning-video-40e9c1b8c5124a41bc2c1c6c0fd0f629', 'i4x-HumanitiesSciences-StatLearning-video-c2c1c6df5f8a4eac95132a7eaaa72193', 'i4x-HumanitiesSciences-StatLearning-video-e6b6e7f1c8964a45ba6651c6b0f91674', 'i4x-HumanitiesSciences-StatLearning-video-a44691b3b90842d9bb595b77606d45ad', 'i4x-HumanitiesSciences-StatLearning-video-067c5fe85e46492b94502c24e45672f2', 'i4x-HumanitiesSciences-StatLearning-video-3b3df179eb1d4046bd7ca889028a936c', 'i4x-HumanitiesSciences-StatLearning-video-10ba326892c548589a123f1366226510', 'i4x-HumanitiesSciences-StatLearning-video-6ff20d54d7bb40f9880d5e30ba63adbf', 'i4x-HumanitiesSciences-StatLearning-video-fdb4cff53e2b40499545468428511e44', 'i4x-HumanitiesSciences-StatLearning-video-c492f147880c472eb6fb64d535b3a4eb', 'i4x-HumanitiesSciences-StatLearning-video-ff8a9142c9374748ba2a336ba0cdd40a', 'i4x-HumanitiesSciences-StatLearning-video-93561fcfddeb4a2ab43ef06de092e5a3', 'i4x-HumanitiesSciences-StatLearning-video-0ed892b1d7ad4daa9453f5c33b068972', 'i4x-HumanitiesSciences-StatLearning-video-d24492910eaf405ebfb3515289d82236', 'i4x-HumanitiesSciences-StatLearning-video-1710b513bf3e416e9af81ef8b8e0e60f', 'i4x-HumanitiesSciences-StatLearning-video-337716f554b64978bd484daa0e57e130', 'i4x-HumanitiesSciences-StatLearning-video-6268af7df65d448e89e0173010b7764f', 'i4x-HumanitiesSciences-StatLearning-video-f5a2eeb16fd54dac8aa3ff5cd36f0e9c', 'i4x-HumanitiesSciences-StatLearning-video-87602f3b1a8c4d3a8442af6c9982b853', 'i4x-HumanitiesSciences-StatLearning-video-5d98c53aa1de417fb9cb216f672ff423', 'i4x-HumanitiesSciences-StatLearning-video-8a65a67333c14554bca3c5ed3a3c01ae', 'i4x-HumanitiesSciences-StatLearning-video-276c70baa473402aad14da3e5561f5eb', 'i4x-HumanitiesSciences-StatLearning-video-7d621aea9cff4a3d9d214bcaa3ca9c4d', 'i4x-HumanitiesSciences-StatLearning-video-993cff7d0de1475387f57a6eab6814b5', 'i4x-HumanitiesSciences-StatLearning-video-e17d34c5bc764cac985cdfc60c702eaf', 'i4x-HumanitiesSciences-StatLearning-video-ca435b6f08244616866e9908ef2f8367', 'i4x-HumanitiesSciences-StatLearning-video-c99cf24d5560498a8850ad7733c034d0', 'i4x-HumanitiesSciences-StatLearning-video-a81ac17a42ed488abefff668e8013078', 'i4x-HumanitiesSciences-StatLearning-video-4086bfe89b08464184b7d88bb28e9bd9', 'i4x-HumanitiesSciences-StatLearning-video-3376cc79d4994a7d93b98243f4c64ed8', 'i4x-HumanitiesSciences-StatLearning-video-cb780121894e43c4ae03b6eaad9f3576', 'i4x-HumanitiesSciences-StatLearning-video-bc777cbcffbd40f2b9a138e6fae2fccc', 'i4x-HumanitiesSciences-StatLearning-video-d16ba2bb9b9a4e629638a5e6dd115eda', 'i4x-HumanitiesSciences-StatLearning-video-8b9ec6c0e3f44527a81ad3bbd1a3f07e', 'i4x-HumanitiesSciences-StatLearning-video-47f8ef55ba1b474f903aadb6a4cd494e', 'i4x-HumanitiesSciences-StatLearning-video-7f4d486e31594b1096e1c58801b5177b', 'i4x-HumanitiesSciences-StatLearning-video-27d5bf88916c4ee28592f2a5954838ff', 'i4x-HumanitiesSciences-StatLearning-video-961c2dcbf2a04fa9a65aad54745e671b', 'i4x-HumanitiesSciences-StatLearning-video-e70f78fe66c143e89b400ca95bd60c2f', 'i4x-HumanitiesSciences-StatLearning-video-8cfda9e57832495aa76630914bdff118', 'i4x-HumanitiesSciences-StatLearning-video-e7ad4a18ea8c4feeac7ff09d181bfd0f', 'i4x-HumanitiesSciences-StatLearning-video-be69c1f5394449d5b8bacb6ef742f239', 'i4x-HumanitiesSciences-StatLearning-video-25565c4e98204a3da461d2444a196843', 'i4x-HumanitiesSciences-StatLearning-video-e77fcb7f9d0b467cac7e4659fa270191', 'i4x-HumanitiesSciences-StatLearning-video-b55f8ff964334c0ba752eea756a81b9e', 'i4x-HumanitiesSciences-StatLearning-video-8f16a44906a64413a87bf9ec5ed14d65', 'i4x-HumanitiesSciences-StatLearning-video-d4ed2d2fc652441da0daf0193f531def', 'i4x-HumanitiesSciences-StatLearning-video-3d23493a06cc42c0bc83dfd50502990d', 'i4x-HumanitiesSciences-StatLearning-video-525ee97f0d1440ec907e8f996e200fa3', 'i4x-HumanitiesSciences-StatLearning-video-86f839b7618847a1814659afc093d558', 'i4x-HumanitiesSciences-StatLearning-video-6d7d52a8f63145f4815b5dcc17fe5857', 'i4x-HumanitiesSciences-StatLearning-video-464c779b5d874e1ba94fd2925a91f74a', 'i4x-HumanitiesSciences-StatLearning-video-6b90a1186c3e4008ae47a1c0047997fa', 'i4x-HumanitiesSciences-StatLearning-video-1940e548d0fb4242bba0d9515f936dc5', 'i4x-HumanitiesSciences-StatLearning-video-28598f31ffbd48c3ac2f238944da8c0d', 'i4x-HumanitiesSciences-StatLearning-video-48e998cc3b32428194ad6b5867520823', 'i4x-HumanitiesSciences-StatLearning-video-d4e37bf7b6c0439e833231b43367f6a3', 'i4x-HumanitiesSciences-StatLearning-video-8659f0589f41420da3aa4ad45000e8e2', 'i4x-HumanitiesSciences-StatLearning-video-ffa037c0e1be4b96937ab14a667e035d', 'i4x-HumanitiesSciences-StatLearning-video-33a49accf40d477881b57bb78d573571', 'i4x-HumanitiesSciences-StatLearning-video-f4259cb6502143598888aa01441f62f1', 'i4x-HumanitiesSciences-StatLearning-video-46448a4264d742f4819256adc0fa9c94', 'i4x-HumanitiesSciences-StatLearning-video-5877f60aca58464b81140789b8aadc31', 'i4x-HumanitiesSciences-StatLearning-video-52f848932d824280a7afeb5ba3324b24', 'i4x-HumanitiesSciences-StatLearning-video-e72ca06662a441fb9f727e3be2dd4c9d', 'i4x-HumanitiesSciences-StatLearning-video-8cc588b5abda4f689cc59404cfa360a4', 'i4x-HumanitiesSciences-StatLearning-video-14c08686c6d1440ca9bc554673542d72', 'i4x-HumanitiesSciences-StatLearning-video-81e8d64f6ba94cbca97de9d1eb6291ff', 'i4x-HumanitiesSciences-StatLearning-video-de1971b8a61e45d584364679e5e07e55', 'i4x-HumanitiesSciences-StatLearning-video-aca8c779a86641c69a88c53ce0342764', 'i4x-HumanitiesSciences-StatLearning-video-c99a419779464a64908acc48b2cdcd9b', 'i4x-HumanitiesSciences-StatLearning-video-87e1b89734f3416f922ac7e220daf561', 'i4x-HumanitiesSciences-StatLearning-video-f1f5bbfacc9548189f8090d005091df2', 'i4x-HumanitiesSciences-StatLearning-video-52e6894441884b0488c435a020d6d963', 'i4x-HumanitiesSciences-StatLearning-video-825d7ce4b94b402db839e29b87af3767']\n"
     ]
    }
   ],
   "source": [
    "print video_user.keys()"
   ]
  },
  {
   "cell_type": "code",
   "execution_count": 4,
   "metadata": {
    "collapsed": false
   },
   "outputs": [],
   "source": [
    "videoProfile = {}\n",
    "for videoId in video_user:\n",
    "    maxTime = 0\n",
    "    for user in video_user[videoId]:\n",
    "        maxTime = max(maxTime, max(video_user[videoId][user]['time']))\n",
    "    times = [0] * maxTime\n",
    "    for user in video_user[videoId]:\n",
    "        keys = video_user[videoId][user]['time']\n",
    "        vals = video_user[videoId][user]['views']\n",
    "        for i in range(len(keys)):\n",
    "            key = keys[i]-1\n",
    "            val = vals[i]\n",
    "            times[key] += val\n",
    "    videoProfile[videoId] = times"
   ]
  },
  {
   "cell_type": "code",
   "execution_count": 5,
   "metadata": {
    "collapsed": false
   },
   "outputs": [
    {
     "data": {
      "text/plain": [
       "[<matplotlib.lines.Line2D at 0x10b7f3a90>]"
      ]
     },
     "execution_count": 5,
     "metadata": {},
     "output_type": "execute_result"
    },
    {
     "data": {
      "image/png": "[encoded data removed]",
      "text/plain": [
       "<matplotlib.figure.Figure at 0x10ae053d0>"
      ]
     },
     "metadata": {},
     "output_type": "display_data"
    }
   ],
   "source": [
    "videoId = 'i4x-HumanitiesSciences-StatLearning-video-e77fcb7f9d0b467cac7e4659fa270191'\n",
    "# print videoProfile[videoId]\n",
    "plt.plot(range(len(videoProfile[videoId])-2), videoProfile[videoId][:-2])"
   ]
  },
  {
   "cell_type": "code",
   "execution_count": 8,
   "metadata": {
    "collapsed": true
   },
   "outputs": [],
   "source": [
    "import math\n",
    "import numpy as np\n",
    "from scipy import linalg\n",
    "\n",
    "\n",
    "def lowess(x, y, f=2. / 3., iter=3):\n",
    "    \"\"\"lowess(x, y, f=2./3., iter=3) -> yest\n",
    "\n",
    "    Lowess smoother: Robust locally weighted regression.\n",
    "    The lowess function fits a nonparametric regression curve to a scatterplot.\n",
    "    The arrays x and y contain an equal number of elements; each pair\n",
    "    (x[i], y[i]) defines a data point in the scatterplot. The function returns\n",
    "    the estimated (smooth) values of y.\n",
    "\n",
    "    The smoothing span is given by f. A larger value for f will result in a\n",
    "    smoother curve. The number of robustifying iterations is given by iter. The\n",
    "    function will run faster with a smaller number of iterations.\n",
    "    \"\"\"\n",
    "    n = len(x)\n",
    "    r = int(ceil(f * n))\n",
    "    h = [np.sort(np.abs(x - x[i]))[r] for i in range(n)]\n",
    "    w = np.clip(np.abs((x[:, None] - x[None, :]) / h), 0.0, 1.0)\n",
    "    w = (1 - w ** 3) ** 3\n",
    "    yest = np.zeros(n)\n",
    "    delta = np.ones(n)\n",
    "    for iteration in range(iter):\n",
    "        for i in range(n):\n",
    "            weights = delta * w[:, i]\n",
    "            b = np.array([np.sum(weights * y), np.sum(weights * y * x)])\n",
    "            A = np.array([[np.sum(weights), np.sum(weights * x)],\n",
    "                          [np.sum(weights * x), np.sum(weights * x * x)]])\n",
    "            beta = linalg.solve(A, b)\n",
    "            yest[i] = beta[0] + beta[1] * x[i]\n",
    "\n",
    "        residuals = y - yest\n",
    "        s = np.median(np.abs(residuals))\n",
    "        delta = np.clip(residuals / (6.0 * s), -1, 1)\n",
    "        delta = (1 - delta ** 2) ** 2\n",
    "\n",
    "    return yest\n",
    "\n",
    "def find_peak(c):\n",
    "\twindows = []\n",
    "\tmean = c[0]\n",
    "\tp = 5\n",
    "\ttao = 2.4\n",
    "\tmeandev = math.sqrt(np.var(c[:p]))\n",
    "\n",
    "\tfor i in range(1, len(c)):\n",
    "\t\tif math.fabs(c[i] - mean)/meandev > tao and c[i] > c[i-1]:\n",
    "\t\t\tstart = i-1\n",
    "\t\t\twhile i < len(c) and c[i] > c[i-1]:\n",
    "\t\t\t\t(mean, meandev) = update(mean, meandev, c[i])\n",
    "\t\t\t\ti += 1\n",
    "\t\t\tend = start\n",
    "\t\t\twhile i < len(c) and c[i] > c[start]:\n",
    "\t\t\t\tif math.fabs(c[i] - mean)/meandev > tao and c[i] > c[i-1]:\n",
    "\t\t\t\t\ti -= 1\n",
    "\t\t\t\t\tend = i\n",
    "\t\t\t\t\tbreak\n",
    "\t\t\t\telse:\n",
    "\t\t\t\t\t(mean, meandev) = update(mean, meandev, c[i])\n",
    "\t\t\t\t\tend = i\n",
    "\t\t\t\t\ti += 1\n",
    "\t\t\twindows.append((start, end))\n",
    "\t\telse:\n",
    "\t\t\t(mean, meandev) = update(mean, meandev, c[i])\n",
    "\n",
    "\treturn windows\n",
    "\n",
    "def update(oldmean, oldmeandev, updatevalue):\n",
    "\talpha = 0.125\n",
    "\tdiff = math.fabs(oldmean - updatevalue)\n",
    "\tnewmeandev = alpha*diff + (1-alpha)*oldmeandev\n",
    "\tnewmean = alpha*updatevalue + (1-alpha)*oldmean\n",
    "\treturn (newmean, newmeandev)\n",
    "\n",
    "\n",
    "def peak_to_plot(w, leng, val=100):\n",
    "\tret = [0] * leng\n",
    "\tfor window in w:\n",
    "\t\tstart = window[0]\n",
    "\t\tend = window[1]\n",
    "\t\tif start > end:\n",
    "\t\t\ttemp = start\n",
    "\t\t\tstart = end\n",
    "\t\t\tend = temp\n",
    "\t\tfor i in range(start, end):\n",
    "\t\t\tret[i] = val\n",
    "\treturn ret"
   ]
  },
  {
   "cell_type": "code",
   "execution_count": 10,
   "metadata": {
    "collapsed": false
   },
   "outputs": [
    {
     "data": {
      "image/png": "[encoded data removed]",
      "text/plain": [
       "<matplotlib.figure.Figure at 0x1129f9410>"
      ]
     },
     "metadata": {},
     "output_type": "display_data"
    }
   ],
   "source": [
    "\n",
    "x = range(len(videoProfile[videoId])-2)\n",
    "y = videoProfile[videoId][:-2]\n",
    "\n",
    "x = np.asarray(x)\n",
    "y = np.asarray(y)\n",
    "\n",
    "f = 0.15\n",
    "yest = lowess(x, y, f=f, iter=3)\n",
    "\n",
    "w = find_peak(yest)\n",
    "yplots = peak_to_plot(w, len(y), 2000)\n",
    "\n",
    "import pylab as pl\n",
    "pl.clf()\n",
    "# pl.plot(x, y, label='y noisy')\n",
    "pl.plot(x, yest, label='y pred')\n",
    "pl.plot(x, yplots, label='y peaks')\n",
    "pl.legend()\n",
    "pl.show()\n"
   ]
  },
  {
   "cell_type": "code",
   "execution_count": 13,
   "metadata": {
    "collapsed": false
   },
   "outputs": [
    {
     "name": "stdout",
     "output_type": "stream",
     "text": [
      "10\n",
      "20\n",
      "30\n",
      "40\n",
      "50\n",
      "60\n",
      "70\n",
      "finished\n"
     ]
    }
   ],
   "source": [
    "# get user video peak percentage\n",
    "userVideoPeakPercentage = {}\n",
    "count = 0\n",
    "for videoId in video_user:\n",
    "    \n",
    "    x = range(len(videoProfile[videoId])-2)\n",
    "    y = videoProfile[videoId][:-2]\n",
    "\n",
    "    x = np.asarray(x)\n",
    "    y = np.asarray(y)\n",
    "\n",
    "    f = 0.15\n",
    "    try:\n",
    "        yest = lowess(x, y, f=f, iter=3)\n",
    "\n",
    "        w = find_peak(yest)\n",
    "        yplots = peak_to_plot(w, len(y), 2000)\n",
    "    except:\n",
    "        yplots = [0] * len(y)\n",
    "        \n",
    "    peak_number = 0\n",
    "    for i in range(len(yplots)):\n",
    "        if yplots[i] > 0: #peak\n",
    "            peak_number += 1\n",
    "            \n",
    "    count += 1\n",
    "    if count % 10 == 0:\n",
    "        print count\n",
    "    \n",
    "    for user in video_user[videoId]:\n",
    "        if user not in userVideoPeakPercentage:\n",
    "            userVideoPeakPercentage[user] = {}\n",
    "        userDict = userVideoPeakPercentage[user]\n",
    "        if videoId not in userDict:\n",
    "            userDict[videoId] = 0\n",
    "            \n",
    "            peak_total = 0.0\n",
    "            \n",
    "            keys = video_user[videoId][user]['time']\n",
    "            vals = video_user[videoId][user]['views']\n",
    "            for i in range(len(keys)):\n",
    "                key = keys[i]-1\n",
    "                val = vals[i]\n",
    "                if key < len(yplots) and yplots[key] > 0: #peak\n",
    "                    peak_total += val\n",
    "            \n",
    "            \n",
    "                    \n",
    "            peak_percent = 0\n",
    "            if peak_number > 0:\n",
    "                peak_percent = peak_total / peak_number\n",
    "            \n",
    "            userDict[videoId] = peak_percent\n",
    "            \n",
    "print \"finished\""
   ]
  },
  {
   "cell_type": "code",
   "execution_count": 15,
   "metadata": {
    "collapsed": true
   },
   "outputs": [],
   "source": [
    "# export user video peak percentage\n",
    "f = open(\"../../stats_data/UserVideoPeakPercentage.csv\", \"w\")\n",
    "for user in userVideoPeakPercentage:\n",
    "    for video in userVideoPeakPercentage[user]:\n",
    "        line = str(user) + \",\" + str(video) + \",\" + str(userVideoPeakPercentage[user][video]) + \"\\n\"\n",
    "        f.write(line)\n",
    "f.close()"
   ]
  },
  {
   "cell_type": "code",
   "execution_count": null,
   "metadata": {
    "collapsed": true
   },
   "outputs": [],
   "source": []
  }
 ],
 "metadata": {
  "kernelspec": {
   "display_name": "Python 2",
   "language": "python",
   "name": "python2"
  },
  "language_info": {
   "codemirror_mode": {
    "name": "ipython",
    "version": 2
   },
   "file_extension": ".py",
   "mimetype": "text/x-python",
   "name": "python",
   "nbconvert_exporter": "python",
   "pygments_lexer": "ipython2",
   "version": "2.7.10"
  }
 },
 "nbformat": 4,
 "nbformat_minor": 0
}
