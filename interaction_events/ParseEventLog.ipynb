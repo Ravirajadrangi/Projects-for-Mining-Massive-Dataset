{
 "cells": [
  {
   "cell_type": "code",
   "execution_count": 35,
   "metadata": {
    "collapsed": false,
    "scrolled": false
   },
   "outputs": [],
   "source": [
    "#######################################################################################################################\n",
    "## Parse Event Log \n",
    "## Written by: Sijun He\n",
    "## Last Modified by: Sijun He\n",
    "#######################################################################################################################\n",
    "## The code extracts interaction events out of the log and store it in a dict for further development\n",
    "## 1. Dictionary video_names:  \n",
    "##      keys: the names of each video in the course\n",
    "##      values: dictionarys (video) of data for each video\n",
    "## 2. Dictionary video:  \n",
    "##      keys: the names of users that watched the video\n",
    "##      values: dictionarys (user) of data for each user\n",
    "## 3. Dictionary user:  \n",
    "##      keys: the four types of different events: 'play_video','stop_video','pause_video','seek_video'\n",
    "##      values: a list of datas, for 'seek_video', the data is a tuple of ((old_time, new_time)\n",
    "##                               for others, the data is just video_current_time\n",
    "#######################################################################################################################\n",
    "import csv, re\n",
    "import numpy as np\n",
    "event_type = ['play_video','stop_video','pause_video','seek_video']\n",
    "video_names = {}\n",
    "## need to change the file name to STDIN afterwards\n",
    "with open('EarthSciences_ResGeo202_Spring2015_EventXtract.csv','r') as csvfile :\n",
    "    lines = csv.reader(csvfile, delimiter = ',', quotechar = '\"')\n",
    "    for line in lines :\n",
    "        if line[1] in event_type and re.search(r'Unit ', line[6]):\n",
    "            if line[6] not in video_names:\n",
    "                video_names[line[6]] = {}\n",
    "                \n",
    "            video = video_names[line[6]]\n",
    "            \n",
    "            # use user names as keys to store events of each users\n",
    "            if line[0] not in video:\n",
    "                video[line[0]] = {}\n",
    "            user = video[line[0]]\n",
    "            \n",
    "            # separates events since different events has differnet data\n",
    "            \n",
    "            \n",
    "            ## 1. seek_video contains  \"'video_old_time'\", \"'video_new_time'\n",
    "            ##    store each seek events as a tuple of (old_time, new_time)\n",
    "            if line[1] == 'seek_video':\n",
    "                if 'seek_video' not in user:\n",
    "                    user['seek_video'] = [(line[11], line[12])]\n",
    "                else:\n",
    "                    user['seek_video'].append((line[11], line[12]))\n",
    "            \n",
    "            ## 2. play_video & pause_video & stop_video contains video_current_time\n",
    "            else:\n",
    "                if line[1] not in user:\n",
    "                    user[line[1]] = [line[9]]\n",
    "                else:\n",
    "                    user[line[1]].append(line[9])   "
   ]
  },
  {
   "cell_type": "code",
   "execution_count": 44,
   "metadata": {
    "collapsed": false,
    "scrolled": false
   },
   "outputs": [
    {
     "name": "stdout",
     "output_type": "stream",
     "text": [
      "['Unit 15.4 - Dynamic Hydrocarbon Migration at South Eugene Island', 'Unit 1.3 -  Overview of Units 4-8', 'Unit 20.1 - Injection-Induced Earthquakes', 'Unit 11.1 - Stress Orientations and Relative Magnitudes', 'Unit 3.3 - The Gulf of Mexico']\n"
     ]
    }
   ],
   "source": [
    "## video_names dictionary\n",
    "print video_names.keys()[0:5]"
   ]
  },
  {
   "cell_type": "code",
   "execution_count": 45,
   "metadata": {
    "collapsed": false,
    "scrolled": false
   },
   "outputs": [
    {
     "name": "stdout",
     "output_type": "stream",
     "text": [
      "['70e57033c52922dc01e9363090d3a0704ec6643f', '57b0b96e1050fb35a6fda400345f62658419e06b', '13201ef688276235fc42b6602f860dd0f00dc438', '0fb0968c40440b2617abb8f0c4a1181e5f351627', 'd1965ebccb9f1b265bea847c7914292b98493e11']\n"
     ]
    }
   ],
   "source": [
    "## video dictionary\n",
    "print video_names['Unit 1.3 -  Overview of Units 4-8'].keys()[0:5]"
   ]
  },
  {
   "cell_type": "code",
   "execution_count": 47,
   "metadata": {
    "collapsed": false
   },
   "outputs": [
    {
     "name": "stdout",
     "output_type": "stream",
     "text": [
      "['play_video', 'pause_video', 'stop_video']\n"
     ]
    }
   ],
   "source": [
    "## user\n",
    "print video_names['Unit 1.3 -  Overview of Units 4-8']['70e57033c52922dc01e9363090d3a0704ec6643f'].keys()"
   ]
  },
  {
   "cell_type": "code",
   "execution_count": 51,
   "metadata": {
    "collapsed": false,
    "scrolled": true
   },
   "outputs": [
    {
     "name": "stdout",
     "output_type": "stream",
     "text": [
      "['0', '570.041']\n"
     ]
    }
   ],
   "source": [
    "print video_names['Unit 1.3 -  Overview of Units 4-8']['70e57033c52922dc01e9363090d3a0704ec6643f']['play_video']"
   ]
  },
  {
   "cell_type": "code",
   "execution_count": null,
   "metadata": {
    "collapsed": true
   },
   "outputs": [],
   "source": []
  }
 ],
 "metadata": {
  "kernelspec": {
   "display_name": "Python 2",
   "language": "python",
   "name": "python2"
  },
  "language_info": {
   "codemirror_mode": {
    "name": "ipython",
    "version": 2
   },
   "file_extension": ".py",
   "mimetype": "text/x-python",
   "name": "python",
   "nbconvert_exporter": "python",
   "pygments_lexer": "ipython2",
   "version": "2.7.11"
  }
 },
 "nbformat": 4,
 "nbformat_minor": 0
}
