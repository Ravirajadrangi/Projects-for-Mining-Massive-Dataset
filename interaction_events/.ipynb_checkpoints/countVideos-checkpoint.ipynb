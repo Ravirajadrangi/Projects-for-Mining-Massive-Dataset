{
 "cells": [
  {
   "cell_type": "code",
   "execution_count": 44,
   "metadata": {
    "collapsed": false
   },
   "outputs": [],
   "source": [
    "#######################################################################################################################\n",
    "## Parse Event Log \n",
    "## Written by: Sijun He\n",
    "## Last Modified by: Sijun He\n",
    "#######################################################################################################################\n",
    "## The code extracts interaction events out of the log and store it in a dict for further development\n",
    "## 1. Dictionary video_names:  \n",
    "##      keys: the names of each video in the course\n",
    "##      values: dictionarys (video) of data for each video\n",
    "## 2. Dictionary video:  \n",
    "##      keys: the names of users that watched the video\n",
    "##      values: dictionarys (user) of data for each user\n",
    "## 3. Dictionary user:  \n",
    "##      keys: the four types of different events: 'play_video','stop_video','pause_video','seek_video'\n",
    "##      values: a list of datas, for 'seek_video', the data is a tuple of ((old_time, new_time)\n",
    "##                               for others, the data is just video_current_time\n",
    "#######################################################################################################################\n",
    "import csv, re\n",
    "import numpy as np\n",
    "fileName = 'EarthSciences_ResGeo202_Spring2015_VideoInteraction.csv'\n",
    "video_names = [] ## a list for all the video names\n",
    "video_name_id_matching = {} ## one on one matching for video_name to videoID\n",
    "user_watched_video = {} ## a dictionary for the video each user watched\n",
    "event_type = ['play_video','stop_video','pause_video','seek_video']\n",
    "with open('../../data/' + fileName,'r') as csvfile :\n",
    "    lines = csv.reader(csvfile, delimiter = ',', quotechar = '\"')\n",
    "    for line in lines :       \n",
    "        if line[0] in event_type and re.match('Unit\\s\\d+\\.\\d+',line[1]):\n",
    "            if line[1] not in video_names:\n",
    "                video_names.append(line[1])\n",
    "                video_name_id_matching[line[14]] = line[1]\n",
    "            if line[13] not in user_watched_video:\n",
    "                user_watched_video[line[13]] = []\n",
    "            if line[1] not in user_watched_video[line[13]]:\n",
    "                user_watched_video[line[13]].append(line[1])\n",
    "\n",
    "## Sorted videos in chronological order \n",
    "sorted_video_name = sorted(video_names, key=lambda video: float(re.search('(?<=Unit)\\s\\d+\\.\\d+',video).group(0)))\n",
    "\n",
    "## Create a matrix of user - video watched relation \n",
    "## 1 = user watched this video\n",
    "## 0 = user didn't watch this video\n",
    "outputName = 'EarthSciences_ResGeo202_Spring2015_UserVideo_Matrix.csv'\n",
    "outputFile = open(outputName, 'w')\n",
    "columnNames = 'UserName,'\n",
    "for video in sorted_video_name:\n",
    "    columnNames += (video + ',')\n",
    "columnNames = columnNames[:-1] + '\\n'\n",
    "outputFile.write(columnNames)\n",
    "for user in user_watched_video.keys():\n",
    "    newLine = user + ','\n",
    "    for video in sorted_video_name:\n",
    "        if video in user_watched_video[user]:\n",
    "            newLine += '1,'\n",
    "        else:\n",
    "            newLine += '0,'\n",
    "    newLine = newLine[:-1] + '\\n'\n",
    "    outputFile.write(newLine)"
   ]
  },
  {
   "cell_type": "code",
   "execution_count": 42,
   "metadata": {
    "collapsed": false
   },
   "outputs": [
    {
     "data": {
      "text/plain": [
       "'Unit 1.1 - Course Overvie'"
      ]
     },
     "execution_count": 42,
     "metadata": {},
     "output_type": "execute_result"
    }
   ],
   "source": [
    "user_watched_video['70e57033c52922dc01e9363090d3a0704ec6643f'][0][:-1]"
   ]
  },
  {
   "cell_type": "code",
   "execution_count": 29,
   "metadata": {
    "collapsed": false
   },
   "outputs": [
    {
     "data": {
      "text/plain": [
       "['Unit 2.2 - Relative Stress Magnitudes',\n",
       " 'Unit 1.1 - Course Overview',\n",
       " 'Unit 12.3 - Case Studies of Wellbore Stability 1, 2',\n",
       " 'Unit 12.4 - Case Studies of Wellbore Stability 3-5',\n",
       " 'Unit 12.5 - Case Studies of Wellbore Stability 6, 7',\n",
       " 'Unit 12.6 - Case Studies of Wellbore Stability 8, 9',\n",
       " 'Unit 9.2 - More on MiniFrac Tests',\n",
       " 'Unit 11.3 - Least Principle Stress in the Gulf of Mexico',\n",
       " 'Unit 11.4 - How NOT to Predict Shmin',\n",
       " 'Unit 2.3 - Absolute Stress Magnitudes',\n",
       " 'Unit 2.4 - Stress Variations',\n",
       " 'Unit 15.3 - Introduction to Dynamic Hydrocarbon Migration in The Gulf of Mexico',\n",
       " 'Unit 4.1 - Introduction to Rock Deformation Constitutive Laws',\n",
       " 'Unit 3.1 - Basic Concepts',\n",
       " 'Unit 1.2 - Overview of Units 2, 3',\n",
       " 'Unit 9.3 - Hydraulic Fracturing and Shmax from Wellbore Breakouts',\n",
       " 'Unit 2.1 - The Principal Stresses',\n",
       " 'Unit 6.3 - The Critically-Stressed Crust III',\n",
       " 'Unit 5.1 - Mohr-Columb Failure Criteria',\n",
       " 'Unit 1.3 -  Overview of Units 4-8',\n",
       " 'Unit 6.4 - Limits on Stress Magnitudes',\n",
       " 'Unit 10.4 - En Echelon Tensile Fractures',\n",
       " 'Unit 20.1 - Injection-Induced Earthquakes',\n",
       " 'Unit 4.3 - Viscoplasticity of Sands',\n",
       " 'Unit 12.1 - A Criterion for Wellbore Stability',\n",
       " 'Unit 12.2 - Well Construction',\n",
       " 'Unit 11.1 - Stress Orientations and Relative Magnitudes',\n",
       " 'Unit 11.2 - Absolute Stress Magnitudes in Sedimentary Basins',\n",
       " 'Unit 4.2 - Poroelasticity',\n",
       " 'Unit 19.1 - Shale Permeability and Sorption',\n",
       " 'Unit 15.2 - Fault Reactivation in the Northern North Sea',\n",
       " 'Unit 15.4 - Dynamic Hydrocarbon Migration at South Eugene Island',\n",
       " 'Unit 15.5 - South Eugene Island Hydrocarbon Column Heights',\n",
       " \"Unit 11.5 - What's Wrong with The Poisson's Ratio Model\",\n",
       " 'Unit 16.1 - Depletion and Stress Paths',\n",
       " 'Unit 14.4 - Observations and Modeling of Fault Damage Zones',\n",
       " 'Unit 15.1 - Sealing and Leaking Faults',\n",
       " 'Unit 19.2 - Long Period Long Duration Seismic Events',\n",
       " 'Unit 19.3 - Geomechanical Constraints on Fracture Networks',\n",
       " 'Unit 18.5 - Microseismic Events and Reservoir Stimulation',\n",
       " 'Unit 18.6 - Microseismic Events and Production',\n",
       " 'Unit 18.7 - Stimulation of Fracture Networks',\n",
       " 'Unit 3.3 - The Gulf of Mexico',\n",
       " 'Unit 18.1 - Opportunities of Shale Gas Production',\n",
       " 'Unit 18.2 - Horizontal Drilling and Multi-Stage Hydraulic Fracturing',\n",
       " 'Unit 18.3 - Need for Fundamental Research',\n",
       " 'Unit 18.4 - Physical Properties of Shale Gas Reservoir Rocks',\n",
       " 'Unit 3.2 - Pore Pressure Compartments',\n",
       " 'Unit 5.5 - Rock Strength from Geophysical Logs',\n",
       " 'Unit 5.6 - Rock Tensile Strength',\n",
       " 'Unit 7.3 - 3D Mohr Circles and Earthquake Focal Mechanisms',\n",
       " 'Unit 16.3 - Predicting Porosity and Permeability Changes',\n",
       " 'Unit 13.2 - Case Studies of Wellbore Stability 13',\n",
       " 'Unit 14.1 - Basic Concepts of Critically-Stressed Faults',\n",
       " 'Unit 3.6 - The Macondo Well',\n",
       " 'Unit 20.4 - Predicting Slip on Potentially Active Faults',\n",
       " 'Unit 5.2 - Other Failure Criteria',\n",
       " 'Unit 6.1 - The Critically-Stressed Crust I',\n",
       " 'Unit 1.4 - Overview of Units 9-17',\n",
       " 'Unit 1.5 - Overview of Units 18-20',\n",
       " 'Unit 8.2 - Compressional Wellbore Failure I',\n",
       " 'Unit 8.4 - Wellbore Breakouts from Caliper Logs',\n",
       " 'Unit 3.5 - Pore Pressure Prediction',\n",
       " 'Unit 17.3 - Depletion and Subsidence in Louisiana',\n",
       " 'Unit 5.4 - DARS',\n",
       " 'Unit 6.5 - Rate and State Friction',\n",
       " 'Unit 20.2 - Oklahoma Seismicity',\n",
       " 'Unit 20.3 - Triggered Slip on Basement Faults',\n",
       " 'Unit 3.4 - Mechanisms of Overpressure',\n",
       " 'Unit 6.2 - The Critically-Stressed Crust II',\n",
       " 'Unit 8.1 - The Kirsch Equations',\n",
       " 'Unit 8.3 - Compressional Wellbore Failure II',\n",
       " 'Unit 5.3 - End Cap Failure Criteria',\n",
       " 'Unit 17.1 - Stress Rotations Associated with Depletion',\n",
       " 'Unit 17.2 - Wetlands Loss in Louisiana',\n",
       " 'Unit 10.2 - Tensile Fractures and Borehole Breakouts in Deviated Wells',\n",
       " 'Unit 7.1 - Opening Mode Fractures and Shear Faults',\n",
       " 'Unit 7.2 - Observations of Fractures and Faults at Depth',\n",
       " 'Unit 5.7 - Vertical Hydraulic Fracture Growth',\n",
       " 'Unit 14.2 - Critically-Stressed Faults in Wells',\n",
       " 'Unit 16.2 - Production-Induced Faulting and DARS',\n",
       " 'Unit 9.4 - Shmax from Drilling-Induced Tensile Fractures',\n",
       " 'Unit 9.1 - MiniFrac Tests and LOTs',\n",
       " 'Unit 8.5 - Drilling-Induced Tensile Fractures',\n",
       " 'Unit 8.6 - More on Wellbore Breakouts',\n",
       " 'Unit 9.5 - Active Faults in Reservoirs',\n",
       " 'Unit 14.3 - Examples of Critically-Stressed Faults from Southeast Asia',\n",
       " 'Unit 10.3 - Estimating Stress from Failure of Deviated Wells',\n",
       " 'Unit 19.5 - Environmental Protection ',\n",
       " 'Unit 19.4 - Watch Out for Faults!',\n",
       " 'Unit 13.1 - Case Studies of Wellbore Stability 10-12',\n",
       " 'Unit 13.3 - Case Studies of Wellbore Stability 14',\n",
       " 'Unit 13.4 - Case Studies of Wellbore Stability 15, Wellbore Ballooning']"
      ]
     },
     "execution_count": 29,
     "metadata": {},
     "output_type": "execute_result"
    }
   ],
   "source": [
    "video_names"
   ]
  },
  {
   "cell_type": "code",
   "execution_count": 7,
   "metadata": {
    "collapsed": false
   },
   "outputs": [
    {
     "name": "stdout",
     "output_type": "stream",
     "text": [
      "['Unit 1.1 - Course Overview', 'Unit 1.2 - Overview of Units 2, 3', 'Unit 1.3 -  Overview of Units 4-8', 'Unit 1.4 - Overview of Units 9-17', 'Unit 1.5 - Overview of Units 18-20', 'Unit 2.1 - The Principal Stresses', 'Unit 2.2 - Relative Stress Magnitudes', 'Unit 2.3 - Absolute Stress Magnitudes', 'Unit 2.4 - Stress Variations', 'Unit 3.1 - Basic Concepts', 'Unit 3.2 - Pore Pressure Compartments', 'Unit 3.3 - The Gulf of Mexico', 'Unit 3.4 - Mechanisms of Overpressure', 'Unit 3.5 - Pore Pressure Prediction', 'Unit 3.6 - The Macondo Well', 'Unit 4.1 - Introduction to Rock Deformation Constitutive Laws', 'Unit 4.2 - Poroelasticity', 'Unit 4.3 - Viscoplasticity of Sands', 'Unit 5.1 - Mohr-Columb Failure Criteria', 'Unit 5.2 - Other Failure Criteria', 'Unit 5.3 - End Cap Failure Criteria', 'Unit 5.4 - DARS', 'Unit 5.5 - Rock Strength from Geophysical Logs', 'Unit 5.6 - Rock Tensile Strength', 'Unit 5.7 - Vertical Hydraulic Fracture Growth', 'Unit 6.1 - The Critically-Stressed Crust I', 'Unit 6.2 - The Critically-Stressed Crust II', 'Unit 6.3 - The Critically-Stressed Crust III', 'Unit 6.4 - Limits on Stress Magnitudes', 'Unit 6.5 - Rate and State Friction', 'Unit 7.1 - Opening Mode Fractures and Shear Faults', 'Unit 7.2 - Observations of Fractures and Faults at Depth', 'Unit 7.3 - 3D Mohr Circles and Earthquake Focal Mechanisms', 'Unit 8.1 - The Kirsch Equations', 'Unit 8.2 - Compressional Wellbore Failure I', 'Unit 8.3 - Compressional Wellbore Failure II', 'Unit 8.4 - Wellbore Breakouts from Caliper Logs', 'Unit 8.5 - Drilling-Induced Tensile Fractures', 'Unit 8.6 - More on Wellbore Breakouts', 'Unit 9.1 - MiniFrac Tests and LOTs', 'Unit 9.2 - More on MiniFrac Tests', 'Unit 9.3 - Hydraulic Fracturing and Shmax from Wellbore Breakouts', 'Unit 9.4 - Shmax from Drilling-Induced Tensile Fractures', 'Unit 9.5 - Active Faults in Reservoirs', 'Unit 10.2 - Tensile Fractures and Borehole Breakouts in Deviated Wells', 'Unit 10.3 - Estimating Stress from Failure of Deviated Wells', 'Unit 10.4 - En Echelon Tensile Fractures', 'Unit 11.1 - Stress Orientations and Relative Magnitudes', 'Unit 11.2 - Absolute Stress Magnitudes in Sedimentary Basins', 'Unit 11.3 - Least Principle Stress in the Gulf of Mexico', 'Unit 11.4 - How NOT to Predict Shmin', \"Unit 11.5 - What's Wrong with The Poisson's Ratio Model\", 'Unit 12.1 - A Criterion for Wellbore Stability', 'Unit 12.2 - Well Construction', 'Unit 12.3 - Case Studies of Wellbore Stability 1, 2', 'Unit 12.4 - Case Studies of Wellbore Stability 3-5', 'Unit 12.5 - Case Studies of Wellbore Stability 6, 7', 'Unit 12.6 - Case Studies of Wellbore Stability 8, 9', 'Unit 13.1 - Case Studies of Wellbore Stability 10-12', 'Unit 13.2 - Case Studies of Wellbore Stability 13', 'Unit 13.3 - Case Studies of Wellbore Stability 14', 'Unit 13.4 - Case Studies of Wellbore Stability 15, Wellbore Ballooning', 'Unit 14.1 - Basic Concepts of Critically-Stressed Faults', 'Unit 14.2 - Critically-Stressed Faults in Wells', 'Unit 14.3 - Examples of Critically-Stressed Faults from Southeast Asia', 'Unit 14.4 - Observations and Modeling of Fault Damage Zones', 'Unit 15.1 - Sealing and Leaking Faults', 'Unit 15.2 - Fault Reactivation in the Northern North Sea', 'Unit 15.3 - Introduction to Dynamic Hydrocarbon Migration in The Gulf of Mexico', 'Unit 15.4 - Dynamic Hydrocarbon Migration at South Eugene Island', 'Unit 15.5 - South Eugene Island Hydrocarbon Column Heights', 'Unit 16.1 - Depletion and Stress Paths', 'Unit 16.2 - Production-Induced Faulting and DARS', 'Unit 16.3 - Predicting Porosity and Permeability Changes', 'Unit 17.1 - Stress Rotations Associated with Depletion', 'Unit 17.2 - Wetlands Loss in Louisiana', 'Unit 17.3 - Depletion and Subsidence in Louisiana', 'Unit 18.1 - Opportunities of Shale Gas Production', 'Unit 18.2 - Horizontal Drilling and Multi-Stage Hydraulic Fracturing', 'Unit 18.3 - Need for Fundamental Research', 'Unit 18.4 - Physical Properties of Shale Gas Reservoir Rocks', 'Unit 18.5 - Microseismic Events and Reservoir Stimulation', 'Unit 18.6 - Microseismic Events and Production', 'Unit 18.7 - Stimulation of Fracture Networks', 'Unit 19.1 - Shale Permeability and Sorption', 'Unit 19.2 - Long Period Long Duration Seismic Events', 'Unit 19.3 - Geomechanical Constraints on Fracture Networks', 'Unit 19.4 - Watch Out for Faults!', 'Unit 19.5 - Environmental Protection ', 'Unit 20.1 - Injection-Induced Earthquakes', 'Unit 20.2 - Oklahoma Seismicity', 'Unit 20.3 - Triggered Slip on Basement Faults', 'Unit 20.4 - Predicting Slip on Potentially Active Faults']\n"
     ]
    }
   ],
   "source": [
    "sortedName = ['Welcome Video']\n",
    "sortedName += sorted(video_names, key=lambda video: float(re.search('(?<=Unit)\\s\\d+\\.\\d+',video).group(0)))\n",
    "print sortedName"
   ]
  },
  {
   "cell_type": "code",
   "execution_count": 28,
   "metadata": {
    "collapsed": false
   },
   "outputs": [
    {
     "name": "stdout",
     "output_type": "stream",
     "text": [
      "yes\n"
     ]
    }
   ],
   "source": [
    "if re.match('Unit\\s\\d+\\.\\d+','Unit 1.1'):\n",
    "    print \"yes\""
   ]
  },
  {
   "cell_type": "code",
   "execution_count": 1,
   "metadata": {
    "collapsed": true
   },
   "outputs": [],
   "source": [
    "import csv, re\n",
    "import numpy as np\n",
    "fileName = 'EarthSciences_ResGeo202_Spring2015_VideoInteraction.csv'\n",
    "video_names = [] ## a list for all the video names\n",
    "video_name_id_matching = {} ## one on one matching for video_name to videoID\n",
    "user_watched_video = {} ## a dictionary for the video each user watched\n",
    "event_type = ['play_video','stop_video','pause_video','seek_video']\n",
    "with open('../../data/' + fileName,'r') as csvfile :\n",
    "    lines = csv.reader(csvfile, delimiter = ',', quotechar = '\"')\n",
    "    for line in lines :       \n",
    "        if line[0] in event_type and re.match('Unit\\s\\d+\\.\\d+',line[1]):\n",
    "            if line[1] not in video_names:\n",
    "                video_names.append(line[1])\n",
    "                video_name_id_matching[line[14]] = line[1]\n",
    "            if line[13] not in user_watched_video:\n",
    "                user_watched_video[line[13]] = []\n",
    "            if line[1] not in user_watched_video[line[13]]:\n",
    "                user_watched_video[line[13]].append(line[1])\n",
    "\n",
    "## Sorted videos in chronological order \n",
    "sorted_video_name = sorted(video_names, key=lambda video: float(re.search('(?<=Unit)\\s\\d+\\.\\d+',video).group(0)))"
   ]
  },
  {
   "cell_type": "code",
   "execution_count": 5,
   "metadata": {
    "collapsed": false
   },
   "outputs": [
    {
     "name": "stdout",
     "output_type": "stream",
     "text": [
      "{'Unit 15.4 - Dynamic Hydrocarbon Migration at South Eugene Island': 'i4x-EarthSciences-ResGeo202-video-ca2fec5e06964b1482099ae0ecdc6244', 'Unit 12.3 - Case Studies of Wellbore Stability 1, 2': 'i4x-EarthSciences-ResGeo202-video-c9c0ff053366432faf3fc6d0d6095bac', 'Unit 20.1 - Injection-Induced Earthquakes': 'i4x-EarthSciences-ResGeo202-video-16704266d29c455b8853ef5408dd9a55', 'Unit 11.1 - Stress Orientations and Relative Magnitudes': 'i4x-EarthSciences-ResGeo202-video-6e617fc7de804d70b9ccf73626efc159', 'Unit 3.3 - The Gulf of Mexico': 'i4x-EarthSciences-ResGeo202-video-2af7ffaa371e4d929476a8fe3b645a2f', 'Unit 12.1 - A Criterion for Wellbore Stability': 'i4x-EarthSciences-ResGeo202-video-bf06966f92594a5d99ebb12a0b198f5d', 'Unit 5.7 - Vertical Hydraulic Fracture Growth': 'i4x-EarthSciences-ResGeo202-video-bd2c3565a1274db29e2e8cd3550f4bf6', 'Unit 7.3 - 3D Mohr Circles and Earthquake Focal Mechanisms': 'i4x-EarthSciences-ResGeo202-video-f586e739b9e4414287d2550d250fceff', 'Unit 19.3 - Geomechanical Constraints on Fracture Networks': 'i4x-EarthSciences-ResGeo202-video-33d015ec22c74f49a2382a2beae90155', 'Unit 2.4 - Stress Variations': 'i4x-EarthSciences-ResGeo202-video-888880a276d64ccca75159bc1f6d3e80', 'Unit 1.1 - Course Overview': 'i4x-EarthSciences-ResGeo202-video-44770da061634893a6956f334ad9d023', 'Unit 9.2 - More on MiniFrac Tests': 'i4x-EarthSciences-ResGeo202-video-445658edc8374a1d8a139d08b7c35745', 'Unit 18.6 - Microseismic Events and Production': 'i4x-EarthSciences-ResGeo202-video-afb009e70602404b978c3b6031e6365b', 'Unit 5.1 - Mohr-Columb Failure Criteria': 'i4x-EarthSciences-ResGeo202-video-61bf2dc64a414e25868ba6d03c8b87f6', 'Unit 5.5 - Rock Strength from Geophysical Logs': 'i4x-EarthSciences-ResGeo202-video-959ec8d44059411dbe4e4ecf513af1b9', 'Unit 1.3 -  Overview of Units 4-8': 'i4x-EarthSciences-ResGeo202-video-aa8e329713f3402d912de3e82b14f3b0', 'Unit 5.3 - End Cap Failure Criteria': 'i4x-EarthSciences-ResGeo202-video-2ef584d4cbed4219baf2fc97760630be', 'Unit 9.4 - Shmax from Drilling-Induced Tensile Fractures': 'i4x-EarthSciences-ResGeo202-video-37bf3402614f460c8a2c872487908530', 'Unit 20.3 - Triggered Slip on Basement Faults': 'i4x-EarthSciences-ResGeo202-video-16340e047ae7472ab295a57d2059e50b', 'Unit 19.4 - Watch Out for Faults!': 'i4x-EarthSciences-ResGeo202-video-2357fecac7454cfebfc0e046391dd3cd', 'Unit 13.2 - Case Studies of Wellbore Stability 13': 'i4x-EarthSciences-ResGeo202-video-16e66a5c4c354ff0bff7f85458dd1d7d', 'Unit 2.3 - Absolute Stress Magnitudes': 'i4x-EarthSciences-ResGeo202-video-737927033b354e72b7fb57bab39a4abd', 'Unit 8.1 - The Kirsch Equations': 'i4x-EarthSciences-ResGeo202-video-00b6bf92205e4658beb0a18cc874faaf', 'Unit 9.3 - Hydraulic Fracturing and Shmax from Wellbore Breakouts': 'i4x-EarthSciences-ResGeo202-video-b9378fc70f6240edabf2348adafbc5f0', 'Unit 5.4 - DARS': 'i4x-EarthSciences-ResGeo202-video-f3e3aeb94636446385671f05febbc338', 'Unit 11.4 - How NOT to Predict Shmin': 'i4x-EarthSciences-ResGeo202-video-c66cc3a2f9e046d8b0943d9478f32a93', 'Unit 4.2 - Poroelasticity': 'i4x-EarthSciences-ResGeo202-video-35cfa54ec1f24c1fb6455b404efd58d0', 'Unit 6.3 - The Critically-Stressed Crust III': 'i4x-EarthSciences-ResGeo202-video-12782628f8624e63ad956a4d213bf6b7', 'Unit 11.3 - Least Principle Stress in the Gulf of Mexico': 'i4x-EarthSciences-ResGeo202-video-bfc55da9dbba4ca58f8d310d1229291c', 'Unit 18.7 - Stimulation of Fracture Networks': 'i4x-EarthSciences-ResGeo202-video-79bd4475d81845dcb1219c24e60698d1', \"Unit 11.5 - What's Wrong with The Poisson's Ratio Model\": 'i4x-EarthSciences-ResGeo202-video-8113be8659bb4c19809aaef15af9c052', 'Unit 8.5 - Drilling-Induced Tensile Fractures': 'i4x-EarthSciences-ResGeo202-video-dd473faa53f846698fee919ca718dd57', 'Unit 4.3 - Viscoplasticity of Sands': 'i4x-EarthSciences-ResGeo202-video-c9e3b6595912465389d6cbec0bcf87b5', 'Unit 16.1 - Depletion and Stress Paths': 'i4x-EarthSciences-ResGeo202-video-b15a1fd66a58479ca2713a455b63e227', 'Unit 18.2 - Horizontal Drilling and Multi-Stage Hydraulic Fracturing': 'i4x-EarthSciences-ResGeo202-video-a2ef94c61aef4fa7843c9eed5634c043', 'Unit 3.5 - Pore Pressure Prediction': 'i4x-EarthSciences-ResGeo202-video-c75fab89dc9142d2aaf7f90d46a5ac5a', 'Unit 1.4 - Overview of Units 9-17': 'i4x-EarthSciences-ResGeo202-video-bb22a97e22c143cf9ec665bb8da80dda', 'Unit 8.3 - Compressional Wellbore Failure II': 'i4x-EarthSciences-ResGeo202-video-183be917c7fd4b2e9fdde3160eb12046', 'Unit 14.2 - Critically-Stressed Faults in Wells': 'i4x-EarthSciences-ResGeo202-video-ad9f066415a1469ab660739278f9b472', 'Unit 12.5 - Case Studies of Wellbore Stability 6, 7': 'i4x-EarthSciences-ResGeo202-video-54a5bd0307494fef8b5592877fe2f2e6', 'Unit 2.1 - The Principal Stresses': 'i4x-EarthSciences-ResGeo202-video-c54b4de14557499e8b4e5e0643983bbb', 'Unit 19.1 - Shale Permeability and Sorption': 'i4x-EarthSciences-ResGeo202-video-92cb395eec1544fea34bb1a994333c82', 'Unit 17.3 - Depletion and Subsidence in Louisiana': 'i4x-EarthSciences-ResGeo202-video-a31dbd7a8dca4f26a217a618eab6814d', 'Unit 6.2 - The Critically-Stressed Crust II': 'i4x-EarthSciences-ResGeo202-video-2e0977c173734ed0812727c5e1ac0230', 'Unit 17.1 - Stress Rotations Associated with Depletion': 'i4x-EarthSciences-ResGeo202-video-5cabd310c67649cc8c4a2b20015bb8e7', 'Unit 6.5 - Rate and State Friction': 'i4x-EarthSciences-ResGeo202-video-eb4ca960f64e4ceb9d1609aded4180b4', 'Unit 4.1 - Introduction to Rock Deformation Constitutive Laws': 'i4x-EarthSciences-ResGeo202-video-044f3c5a446d439783435cfbe56553f4', 'Unit 8.4 - Wellbore Breakouts from Caliper Logs': 'i4x-EarthSciences-ResGeo202-video-b44ab265b8874a39955aed253a646460', 'Unit 3.2 - Pore Pressure Compartments': 'i4x-EarthSciences-ResGeo202-video-a324346181ce4d4fb68b98eea9a29f48', 'Unit 15.3 - Introduction to Dynamic Hydrocarbon Migration in The Gulf of Mexico': 'i4x-EarthSciences-ResGeo202-video-ea6e8a02fc90482ebd8c89e8a5194b50', 'Unit 10.4 - En Echelon Tensile Fractures': 'i4x-EarthSciences-ResGeo202-video-771e544e0f784984aec73c6d6bc2464b', 'Unit 3.4 - Mechanisms of Overpressure': 'i4x-EarthSciences-ResGeo202-video-5166e3fa603745c4bc193654540aea3f', 'Unit 1.2 - Overview of Units 2, 3': 'i4x-EarthSciences-ResGeo202-video-1ef94a59c89e4a03a529b46b002b889f', 'Unit 7.1 - Opening Mode Fractures and Shear Faults': 'i4x-EarthSciences-ResGeo202-video-96e688de99db4c3b941c44e2a73ee3ce', 'Unit 12.2 - Well Construction': 'i4x-EarthSciences-ResGeo202-video-28989a540cd349c59c343b138bb29e89', 'Unit 10.3 - Estimating Stress from Failure of Deviated Wells': 'i4x-EarthSciences-ResGeo202-video-e9f293ce99924ce7a2871ae95e48992d', 'Unit 3.6 - The Macondo Well': 'i4x-EarthSciences-ResGeo202-video-47b6e1c2e1f14756907227841240ebdf', 'Unit 16.3 - Predicting Porosity and Permeability Changes': 'i4x-EarthSciences-ResGeo202-video-a35fed722e0e4750989fd550803bcc4e', 'Unit 7.2 - Observations of Fractures and Faults at Depth': 'i4x-EarthSciences-ResGeo202-video-aa530f8280434ed3b0aec6e5ca76772e', 'Unit 6.1 - The Critically-Stressed Crust I': 'i4x-EarthSciences-ResGeo202-video-6ddf0d198c7e4d4bbc111d2fc414f24e', 'Unit 17.2 - Wetlands Loss in Louisiana': 'i4x-EarthSciences-ResGeo202-video-b0caa06a233a4edbb33632b3371daf7b', 'Unit 8.2 - Compressional Wellbore Failure I': 'i4x-EarthSciences-ResGeo202-video-79b46dc923e84f1e902febe92d72ea9d', 'Unit 18.4 - Physical Properties of Shale Gas Reservoir Rocks': 'i4x-EarthSciences-ResGeo202-video-581dea5babad41e5adc8391088128cf4', 'Unit 13.3 - Case Studies of Wellbore Stability 14': 'i4x-EarthSciences-ResGeo202-video-d8561ec38263476bb6ce4ecbe04be7a3', 'Unit 19.2 - Long Period Long Duration Seismic Events': 'i4x-EarthSciences-ResGeo202-video-45c66b26560244ea83eb050c93c888eb', 'Unit 5.2 - Other Failure Criteria': 'i4x-EarthSciences-ResGeo202-video-b67da550765d4bae94463e4ae081c441', 'Unit 11.2 - Absolute Stress Magnitudes in Sedimentary Basins': 'i4x-EarthSciences-ResGeo202-video-e0f03b157c684701b93c435da4e147d2', 'Unit 19.5 - Environmental Protection ': 'i4x-EarthSciences-ResGeo202-video-65795985790240c5bc9b18035ceb21c0', 'Unit 1.5 - Overview of Units 18-20': 'i4x-EarthSciences-ResGeo202-video-2ab3807d741542a0b2baeccb988a907c', 'Unit 3.1 - Basic Concepts': 'i4x-EarthSciences-ResGeo202-video-b23cdedde3f042b599a227cbd51b1d9f', 'Unit 9.1 - MiniFrac Tests and LOTs': 'i4x-EarthSciences-ResGeo202-video-671253e6f931419580584a73b6d6335e', 'Unit 12.4 - Case Studies of Wellbore Stability 3-5': 'i4x-EarthSciences-ResGeo202-video-c20c76136dc844449f4ca5a050851c9b', 'Unit 15.1 - Sealing and Leaking Faults': 'i4x-EarthSciences-ResGeo202-video-0400d80a2f474d86b805baee6100de05', 'Unit 14.4 - Observations and Modeling of Fault Damage Zones': 'i4x-EarthSciences-ResGeo202-video-646758d1959d4aa9b0febe390899df4e', 'Unit 20.4 - Predicting Slip on Potentially Active Faults': 'i4x-EarthSciences-ResGeo202-video-93e78eab2c2b446994e57a47ed44c538', 'Unit 18.3 - Need for Fundamental Research': 'i4x-EarthSciences-ResGeo202-video-042cee6702f8458ab57d897e6cfb5d93', 'Unit 15.5 - South Eugene Island Hydrocarbon Column Heights': 'i4x-EarthSciences-ResGeo202-video-3a5e198c96114995bd960caa952077ff', 'Unit 18.1 - Opportunities of Shale Gas Production': 'i4x-EarthSciences-ResGeo202-video-ef00ea7d267a446c852ce56d72a79352', 'Unit 5.6 - Rock Tensile Strength': 'i4x-EarthSciences-ResGeo202-video-d86f141432e24785962ff6a4c903ea98', 'Unit 12.6 - Case Studies of Wellbore Stability 8, 9': 'i4x-EarthSciences-ResGeo202-video-92b95495e260447e99c9778a2f4e39e5', 'Unit 14.1 - Basic Concepts of Critically-Stressed Faults': 'i4x-EarthSciences-ResGeo202-video-6943ab12d3f1453c9da8316fbe0a04bd', 'Unit 13.4 - Case Studies of Wellbore Stability 15, Wellbore Ballooning': 'i4x-EarthSciences-ResGeo202-video-5e35fd58fd0543598228431d43279c0d', 'Unit 2.2 - Relative Stress Magnitudes': 'i4x-EarthSciences-ResGeo202-video-28482542a1204534b2147cab5938243d', 'Unit 14.3 - Examples of Critically-Stressed Faults from Southeast Asia': 'i4x-EarthSciences-ResGeo202-video-26a1bdf3ff254f13b55f225968ef96f7', 'Unit 18.5 - Microseismic Events and Reservoir Stimulation': 'i4x-EarthSciences-ResGeo202-video-f5d60415af0a4f219e96153fb2c1d942', 'Unit 15.2 - Fault Reactivation in the Northern North Sea': 'i4x-EarthSciences-ResGeo202-video-5a2645da101e46c882c01885f0dab932', 'Unit 13.1 - Case Studies of Wellbore Stability 10-12': 'i4x-EarthSciences-ResGeo202-video-6e68460db9dc4f389117684910013670', 'Unit 16.2 - Production-Induced Faulting and DARS': 'i4x-EarthSciences-ResGeo202-video-d947aa60f9ed48a0a99cebb31b31a81b', 'Unit 6.4 - Limits on Stress Magnitudes': 'i4x-EarthSciences-ResGeo202-video-84a7861fe92a48ec8c635a1cfc4bcd19', 'Unit 9.5 - Active Faults in Reservoirs': 'i4x-EarthSciences-ResGeo202-video-075d7ae741f84ff9aad345cc4862fc71', 'Unit 20.2 - Oklahoma Seismicity': 'i4x-EarthSciences-ResGeo202-video-f1e64f6718f64924bbf6bc93c0111b48', 'Unit 10.2 - Tensile Fractures and Borehole Breakouts in Deviated Wells': 'i4x-EarthSciences-ResGeo202-video-e40b848b39364596bd3844b46a4e28b3', 'Unit 8.6 - More on Wellbore Breakouts': 'i4x-EarthSciences-ResGeo202-video-e4f9e30297964cc1b4d49e3ed01d5b65'}\n"
     ]
    }
   ],
   "source": [
    "# print video_name_id_matching\n",
    "video_name_id_matching_reverse = {}\n",
    "\n",
    "for vid in video_name_id_matching:\n",
    "    video_name_id_matching_reverse[video_name_id_matching[vid]] = vid\n",
    "    \n",
    "print video_name_id_matching_reverse"
   ]
  },
  {
   "cell_type": "code",
   "execution_count": 8,
   "metadata": {
    "collapsed": true
   },
   "outputs": [],
   "source": [
    "# export video names\n",
    "f = open(\"../countVideos/EarthSciences_ResGeo202_Spring2015_VideoNames.csv\", \"w\")\n",
    "for video in sortedName:\n",
    "    line = video_name_id_matching_reverse[video] + \"\\n\"\n",
    "    f.write(line)\n",
    "f.close()"
   ]
  },
  {
   "cell_type": "code",
   "execution_count": null,
   "metadata": {
    "collapsed": true
   },
   "outputs": [],
   "source": []
  }
 ],
 "metadata": {
  "kernelspec": {
   "display_name": "Python 2",
   "language": "python",
   "name": "python2"
  },
  "language_info": {
   "codemirror_mode": {
    "name": "ipython",
    "version": 2
   },
   "file_extension": ".py",
   "mimetype": "text/x-python",
   "name": "python",
   "nbconvert_exporter": "python",
   "pygments_lexer": "ipython2",
   "version": "2.7.10"
  }
 },
 "nbformat": 4,
 "nbformat_minor": 0
}
