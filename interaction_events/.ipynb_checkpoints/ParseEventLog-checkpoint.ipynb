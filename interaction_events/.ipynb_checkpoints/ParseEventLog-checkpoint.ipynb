{
 "cells": [
  {
   "cell_type": "code",
   "execution_count": 2,
   "metadata": {
    "collapsed": false,
    "scrolled": false
   },
   "outputs": [],
   "source": [
    "#######################################################################################################################\n",
    "## Parse Event Log \n",
    "## Written by: Sijun He\n",
    "## Last Modified by: Sijun He\n",
    "#######################################################################################################################\n",
    "## The code extracts interaction events out of the log and store it in a dict for further development\n",
    "## 1. Dictionary video_names:  \n",
    "##      keys: the names of each video in the course\n",
    "##      values: dictionarys (video) of data for each video\n",
    "## 2. Dictionary video:  \n",
    "##      keys: the names of users that watched the video\n",
    "##      values: dictionarys (user) of data for each user\n",
    "## 3. Dictionary user:  \n",
    "##      keys: the four types of different events: 'play_video','stop_video','pause_video','seek_video'\n",
    "##      values: a list of datas, for 'seek_video', the data is a tuple of ((old_time, new_time)\n",
    "##                               for others, the data is just video_current_time\n",
    "#######################################################################################################################\n",
    "import csv, re\n",
    "import numpy as np\n",
    "event_type = ['play_video','stop_video','pause_video','seek_video']\n",
    "video_names = {}\n",
    "video_name_id_matching = {}\n",
    "## need to change the file name to STDIN afterwards\n",
    "with open('../../data/EarthSciences_ResGeo202_Spring2015_VideoInteraction.csv','r') as csvfile :\n",
    "    lines = csv.reader(csvfile, delimiter = ',', quotechar = '\"')\n",
    "    for line in lines :\n",
    "        if line[0] in event_type and line[1] != '':\n",
    "            if line[1] not in video_names:\n",
    "                video_names[line[1]] = {}\n",
    "                video_name_id_matching[line[14]] = line[1]\n",
    "                \n",
    "            video = video_names[line[1]]\n",
    "            \n",
    "            # use user names as keys to store events of each users\n",
    "            if line[13] not in video:\n",
    "                video[line[13]] = {}\n",
    "            user = video[line[13]]\n",
    "            \n",
    "            # separates events since different events has differnet data\n",
    "            \n",
    "            \n",
    "            ## 1. seek_video contains  \"'video_old_time'\", \"'video_new_time'\n",
    "            ##    store each seek events as a tuple of (old_time, new_time)\n",
    "            if line[0] == 'seek_video':\n",
    "                if 'seek_video' not in user:\n",
    "                    user['seek_video'] = [(line[6], line[7])]\n",
    "                else:\n",
    "                    user['seek_video'].append((line[6], line[7]))\n",
    "            \n",
    "            ## 2. play_video & pause_video & stop_video contains video_current_time\n",
    "            else:\n",
    "                if line[0] not in user:\n",
    "                    user[line[0]] = [line[2]]\n",
    "                else:\n",
    "                    if line[2] not in user[line[0]]:\n",
    "                        user[line[0]].append(line[2])   "
   ]
  },
  {
   "cell_type": "code",
   "execution_count": 21,
   "metadata": {
    "collapsed": false,
    "scrolled": false
   },
   "outputs": [
    {
     "name": "stdout",
     "output_type": "stream",
     "text": [
      "[('31', '7.45076')]\n",
      "['0', '34.549328', '277.814794', '288.936698', '289.192654', '278.650678', '368', '7.706169', '369.158411']\n",
      "['34.549328', '278.650678', '277.814794', '289.192654', '368.902938', '288.936698', '369.158411', '33.063952']\n",
      "['368.902938', '369.158411']\n"
     ]
    }
   ],
   "source": [
    "## video_names dictionary\n",
    "print video_names['Welcome Video']['ac138fe7146905b6349ac75b4d660c229ab7640a']['seek_video']\n",
    "print video_names['Welcome Video']['ac138fe7146905b6349ac75b4d660c229ab7640a']['play_video']\n",
    "print video_names['Welcome Video']['ac138fe7146905b6349ac75b4d660c229ab7640a']['pause_video']\n",
    "print video_names['Welcome Video']['ac138fe7146905b6349ac75b4d660c229ab7640a']['stop_video']"
   ]
  },
  {
   "cell_type": "code",
   "execution_count": 3,
   "metadata": {
    "collapsed": false
   },
   "outputs": [
    {
     "data": {
      "text/plain": [
       "'Unit 5.6 - Rock Tensile Strength'"
      ]
     },
     "execution_count": 3,
     "metadata": {},
     "output_type": "execute_result"
    }
   ],
   "source": [
    "video_name_id_matching['i4x-EarthSciences-ResGeo202-video-d86f141432e24785962ff6a4c903ea98']"
   ]
  },
  {
   "cell_type": "code",
   "execution_count": 11,
   "metadata": {
    "collapsed": false
   },
   "outputs": [
    {
     "name": "stdout",
     "output_type": "stream",
     "text": [
      "76\n",
      "168\n",
      "129\n",
      "2\n"
     ]
    }
   ],
   "source": [
    "video= 'Unit 5.6 - Rock Tensile Strength'\n",
    "user = '000fbf151167672b762925e2bb19b3e1e4c9ba45'\n",
    "print len(video_names[video][user]['pause_video']) \n",
    "print len(video_names[video][user]['play_video']) \n",
    "print len(video_names[video][user]['seek_video']) \n",
    "print len(video_names[video][user]['stop_video'])"
   ]
  },
  {
   "cell_type": "code",
   "execution_count": 15,
   "metadata": {
    "collapsed": true
   },
   "outputs": [],
   "source": [
    "a = {\n",
    "}"
   ]
  },
  {
   "cell_type": "code",
   "execution_count": 16,
   "metadata": {
    "collapsed": true
   },
   "outputs": [],
   "source": [
    "a[(1,2)] = 1\n",
    "a[(2,3)] = 2"
   ]
  },
  {
   "cell_type": "code",
   "execution_count": 17,
   "metadata": {
    "collapsed": false
   },
   "outputs": [
    {
     "data": {
      "text/plain": [
       "[(1, 2), (2, 3)]"
      ]
     },
     "execution_count": 17,
     "metadata": {},
     "output_type": "execute_result"
    }
   ],
   "source": [
    "a.keys()"
   ]
  },
  {
   "cell_type": "code",
   "execution_count": null,
   "metadata": {
    "collapsed": true
   },
   "outputs": [],
   "source": []
  }
 ],
 "metadata": {
  "kernelspec": {
   "display_name": "Python 2",
   "language": "python",
   "name": "python2"
  },
  "language_info": {
   "codemirror_mode": {
    "name": "ipython",
    "version": 2
   },
   "file_extension": ".py",
   "mimetype": "text/x-python",
   "name": "python",
   "nbconvert_exporter": "python",
   "pygments_lexer": "ipython2",
   "version": "2.7.11"
  }
 },
 "nbformat": 4,
 "nbformat_minor": 0
}
