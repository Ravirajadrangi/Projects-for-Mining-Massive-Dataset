{
 "cells": [
  {
   "cell_type": "code",
   "execution_count": 2,
   "metadata": {
    "collapsed": false
   },
   "outputs": [],
   "source": [
    "import csv, re\n",
    "import numpy as np\n",
    "import matplotlib.pyplot as plt\n",
    "%matplotlib inline\n",
    "video_names = {}\n",
    "## need to change the file name to STDIN afterwards\n",
    "with open('../../data/heatMaps_EarthSciences_ResGeo202_Spring2015_AllLearners.csv','r') as csvfile :\n",
    "    lines = csv.reader(csvfile, delimiter = ',', quotechar = '\"')\n",
    "    count = 0\n",
    "    for line in lines :\n",
    "        videoId,second,numViews = line\n",
    "        count += 1\n",
    "        if videoId == 'videoId':\n",
    "            continue\n",
    "            \n",
    "        if videoId not in video_names:\n",
    "            video_names[videoId] = video = {}\n",
    "            video['time'] = [int(second)]\n",
    "            video['views'] = [int(numViews)]\n",
    "        else:\n",
    "            video = video_names[videoId]\n",
    "            video['time'].append(int(second))\n",
    "            video['views'].append(int(numViews))\n",
    "            "
   ]
  },
  {
   "cell_type": "code",
   "execution_count": 3,
   "metadata": {
    "collapsed": false
   },
   "outputs": [
    {
     "name": "stdout",
     "output_type": "stream",
     "text": [
      "3161\n"
     ]
    }
   ],
   "source": [
    "for video in video_names.keys()[49:50]:\n",
    "    print max(video_names[video]['time'])"
   ]
  },
  {
   "cell_type": "code",
   "execution_count": 22,
   "metadata": {
    "collapsed": false,
    "scrolled": true
   },
   "outputs": [
    {
     "ename": "SyntaxError",
     "evalue": "invalid syntax (<ipython-input-22-ff08658c40fb>, line 1)",
     "output_type": "error",
     "traceback": [
      "\u001b[0;36m  File \u001b[0;32m\"<ipython-input-22-ff08658c40fb>\"\u001b[0;36m, line \u001b[0;32m1\u001b[0m\n\u001b[0;31m    for\u001b[0m\n\u001b[0m        ^\u001b[0m\n\u001b[0;31mSyntaxError\u001b[0m\u001b[0;31m:\u001b[0m invalid syntax\n"
     ]
    }
   ],
   "source": [
    "for \n",
    "plt.plot(video_names[video]['time'],video_names[video]['views'])\n",
    "print video_names[video]['views'][800:1000]"
   ]
  },
  {
   "cell_type": "code",
   "execution_count": 4,
   "metadata": {
    "collapsed": false
   },
   "outputs": [
    {
     "name": "stdout",
     "output_type": "stream",
     "text": [
      "5000000\n",
      "10000000\n",
      "15000000\n",
      "20000000\n",
      "25000000\n",
      "30000000\n",
      "35000000\n",
      "40000000\n"
     ]
    }
   ],
   "source": [
    "video_user = {}\n",
    "with open('../../data/test_results.csv','r') as csvfile :\n",
    "    lines = csv.reader(csvfile, delimiter = ',', quotechar = '\"')\n",
    "    count = 0\n",
    "    for line in lines :\n",
    "        count+= 1\n",
    "        if line == ['videoId', 'second', 'numViews']:\n",
    "            continue\n",
    "        else:\n",
    "            videoID,userID,second,numViews = line\n",
    "\n",
    "            if videoID not in video_user:\n",
    "                video_user[videoID] = {}\n",
    "                \n",
    "            if userID not in video_user[videoID]:\n",
    "                video_user[videoID][userID] = {}\n",
    "                video_user[videoID][userID]['time'] = [int(second)]\n",
    "                video_user[videoID][userID]['views'] = [int(numViews)]\n",
    "            else:\n",
    "                video_user[videoID][userID]['time'].append(int(second))\n",
    "                video_user[videoID][userID]['views'].append(int(numViews))\n",
    "        if count % 5000000 == 0:\n",
    "            print count"
   ]
  },
  {
   "cell_type": "code",
   "execution_count": 38,
   "metadata": {
    "collapsed": false
   },
   "outputs": [],
   "source": [
    "video = 'i4x-EarthSciences-ResGeo202-video-1ef94a59c89e4a03a529b46b002b889f'\n",
    "maxTime = 0\n",
    "for user in video_user[video].keys():\n",
    "    if len(video_user[video][user]['time']) > maxTime:\n",
    "        maxTime = max(video_user[video][user]['time'])\n",
    "        maxUser = user\n"
   ]
  },
  {
   "cell_type": "code",
   "execution_count": 39,
   "metadata": {
    "collapsed": false
   },
   "outputs": [
    {
     "name": "stdout",
     "output_type": "stream",
     "text": [
      "cb8439ec78e9f3c9a3ffa95f7ff9cf3e998e8a4c\n"
     ]
    },
    {
     "data": {
      "image/png": "[encoded data removed]",
      "text/plain": [
       "<matplotlib.figure.Figure at 0x10bd72790>"
      ]
     },
     "metadata": {},
     "output_type": "display_data"
    }
   ],
   "source": [
    "user = maxUser\n",
    "# user = '0897363e785fc1d4b60b4673465dd215152b7bec'\n",
    "plt.plot(video_user[video][user]['time'],video_user[video][user]['views'])\n",
    "print maxUser"
   ]
  },
  {
   "cell_type": "code",
   "execution_count": 35,
   "metadata": {
    "collapsed": false
   },
   "outputs": [
    {
     "data": {
      "text/plain": [
       "['0897363e785fc1d4b60b4673465dd215152b7bec',\n",
       " '046a53b2b6435567791c24d7bb67883b7280466d',\n",
       " '55483e800741e69aa07edd859d44c68920716773',\n",
       " '681c47b777c113fe949926715f76184ca2bcb01f',\n",
       " '44a5bfcb503b28130d35f0774469e067103f07a0']"
      ]
     },
     "execution_count": 35,
     "metadata": {},
     "output_type": "execute_result"
    }
   ],
   "source": [
    "video_user[video].keys()[5:10]"
   ]
  },
  {
   "cell_type": "code",
   "execution_count": 14,
   "metadata": {
    "collapsed": false
   },
   "outputs": [],
   "source": [
    "list = [1, 2, 3, 4, 5]"
   ]
  },
  {
   "cell_type": "code",
   "execution_count": 15,
   "metadata": {
    "collapsed": false
   },
   "outputs": [
    {
     "data": {
      "text/plain": [
       "5"
      ]
     },
     "execution_count": 15,
     "metadata": {},
     "output_type": "execute_result"
    }
   ],
   "source": [
    "max(list)"
   ]
  },
  {
   "cell_type": "code",
   "execution_count": 16,
   "metadata": {
    "collapsed": false
   },
   "outputs": [
    {
     "name": "stdout",
     "output_type": "stream",
     "text": [
      "Max value element :  zara\n",
      "Max value element :  700\n"
     ]
    }
   ],
   "source": [
    "list1, list2 = [123, 'xyz', 'zara', 'abc'], [456, 700, 200]\n",
    "\n",
    "print \"Max value element : \", max(list1)\n",
    "print \"Max value element : \", max(list2)"
   ]
  },
  {
   "cell_type": "code",
   "execution_count": 17,
   "metadata": {
    "collapsed": false
   },
   "outputs": [
    {
     "data": {
      "text/plain": [
       "2"
      ]
     },
     "execution_count": 17,
     "metadata": {},
     "output_type": "execute_result"
    }
   ],
   "source": [
    "max(1,2)"
   ]
  },
  {
   "cell_type": "code",
   "execution_count": null,
   "metadata": {
    "collapsed": false
   },
   "outputs": [],
   "source": []
  },
  {
   "cell_type": "code",
   "execution_count": 36,
   "metadata": {
    "collapsed": false
   },
   "outputs": [
    {
     "data": {
      "text/plain": [
       "'i4x-EarthSciences-ResGeo202-video-b23cdedde3f042b599a227cbd51b1d9f'"
      ]
     },
     "execution_count": 36,
     "metadata": {},
     "output_type": "execute_result"
    }
   ],
   "source": [
    "video_names.keys()[50]"
   ]
  },
  {
   "cell_type": "code",
   "execution_count": 40,
   "metadata": {
    "collapsed": false
   },
   "outputs": [
    {
     "name": "stdout",
     "output_type": "stream",
     "text": [
      "201\n"
     ]
    }
   ],
   "source": [
    "# calculate the amount of extra time user has spent on the video\n",
    "def extraVideoWatchTime(videoID, userID):\n",
    "    views = video_user[videoID][userID]['views']\n",
    "    total = 0\n",
    "    for time in views:\n",
    "        if time > 1:\n",
    "            total += time\n",
    "    return total\n",
    "    \n",
    "    \n",
    "print extraVideoWatchTime(video, user)"
   ]
  },
  {
   "cell_type": "code",
   "execution_count": 22,
   "metadata": {
    "collapsed": false
   },
   "outputs": [],
   "source": [
    "# calculate the total extra time user has spent on videos watched\n",
    "# key: userId, value: total extra time spent\n",
    "userTtlExtraTime = {}\n",
    "for video in video_user:\n",
    "    for user in video_user[video]:\n",
    "        if user not in userTtlExtraTime:\n",
    "            userTtlExtraTime[user] = 0\n",
    "        userTtlExtraTime[user] += extraVideoWatchTime(video, user)\n",
    "        "
   ]
  },
  {
   "cell_type": "code",
   "execution_count": 21,
   "metadata": {
    "collapsed": false
   },
   "outputs": [
    {
     "name": "stdout",
     "output_type": "stream",
     "text": [
      "4226\n"
     ]
    }
   ],
   "source": [
    "print userTtlExtraTime[user]"
   ]
  },
  {
   "cell_type": "code",
   "execution_count": 23,
   "metadata": {
    "collapsed": true
   },
   "outputs": [],
   "source": [
    "from collections import defaultdict\n",
    "videoCounts = defaultdict(int)\n",
    "videoCountsClassification = defaultdict(int)\n",
    "\n",
    "# Extracting video counts\n",
    "first = True\n",
    "with open('../countVideos/EarthSciences_ResGeo202_Spring2015_UserVideo_Matrix.csv', 'r') as csvfile :\n",
    "\tlines = csv.reader(csvfile, delimiter = ',', quotechar = '\"')\n",
    "\tfor line in lines :\n",
    "\t\tif first:\n",
    "\t\t\tfirst = False\n",
    "\t\t\tcontinue\n",
    "\t\tkey = line[0]\n",
    "\t\tcount = 0\n",
    "\t\tfor i in xrange(1, len(line)):\n",
    "\t\t\tcount += int(line[i])\n",
    "\t\tvideoCounts[key] = count\n",
    "\t\tcountClass = 0\n",
    "\t\tif count > 5:\n",
    "\t\t\tcountClass = 1\n",
    "\t\tvideoCountsClassification[key] = countClass"
   ]
  },
  {
   "cell_type": "code",
   "execution_count": 25,
   "metadata": {
    "collapsed": false
   },
   "outputs": [],
   "source": [
    "# calculate the average extra time user has spent on videos watched\n",
    "# key: userId, value: average extra time spent\n",
    "userAvgExtraTime = {}\n",
    "for user in userTtlExtraTime:\n",
    "    if videoCounts[user] > 0:\n",
    "        userAvgExtraTime[user] = userTtlExtraTime[user] / videoCounts[user]\n",
    "    else:\n",
    "        userAvgExtraTime[user] = 0"
   ]
  },
  {
   "cell_type": "code",
   "execution_count": 31,
   "metadata": {
    "collapsed": false
   },
   "outputs": [
    {
     "name": "stdout",
     "output_type": "stream",
     "text": [
      "660\n",
      "660\n",
      "1\n"
     ]
    }
   ],
   "source": [
    "print userAvgExtraTime[user]\n",
    "print userTtlExtraTime[user]\n",
    "print videoCounts[user]"
   ]
  },
  {
   "cell_type": "code",
   "execution_count": 30,
   "metadata": {
    "collapsed": true
   },
   "outputs": [],
   "source": [
    "# export average extra time\n",
    "f = open(\"../countVideos/EarthSciences_ResGeo202_Spring2015_UserAvgExtraTime.csv\", \"w\")\n",
    "for user in userAvgExtraTime:\n",
    "    line = str(user) + \",\" + str(userAvgExtraTime[user]) + \"\\n\"\n",
    "    f.write(line)\n",
    "f.close()"
   ]
  },
  {
   "cell_type": "code",
   "execution_count": 32,
   "metadata": {
    "collapsed": true
   },
   "outputs": [],
   "source": [
    "# export total extra time\n",
    "f = open(\"../countVideos/EarthSciences_ResGeo202_Spring2015_UserTtlExtraTime.csv\", \"w\")\n",
    "for user in userTtlExtraTime:\n",
    "    line = str(user) + \",\" + str(userTtlExtraTime[user]) + \"\\n\"\n",
    "    f.write(line)\n",
    "f.close()"
   ]
  },
  {
   "cell_type": "code",
   "execution_count": 44,
   "metadata": {
    "collapsed": false
   },
   "outputs": [],
   "source": [
    "# get user video dict\n",
    "userVideoTime = {}\n",
    "for video in video_user:\n",
    "    for user in video_user[video]:\n",
    "        if user not in userVideoTime:\n",
    "            userVideoTime[user] = {}\n",
    "        userDict = userVideoTime[user]\n",
    "        if video not in userDict:\n",
    "            userDict[video] = 0\n",
    "        userDict[video] += sum(video_user[video][user]['views'])"
   ]
  },
  {
   "cell_type": "code",
   "execution_count": 45,
   "metadata": {
    "collapsed": true
   },
   "outputs": [],
   "source": [
    "# export user video time\n",
    "f = open(\"../countVideos/EarthSciences_ResGeo202_Spring2015_UserVideoTime.csv\", \"w\")\n",
    "for user in userVideoTime:\n",
    "    for video in userVideoTime[user]:\n",
    "        line = str(user) + \",\" + str(video) + \",\" + str(userVideoTime[user][video]) + \"\\n\"\n",
    "        f.write(line)\n",
    "f.close()"
   ]
  },
  {
   "cell_type": "code",
   "execution_count": null,
   "metadata": {
    "collapsed": true
   },
   "outputs": [],
   "source": []
  }
 ],
 "metadata": {
  "kernelspec": {
   "display_name": "Python 2",
   "language": "python",
   "name": "python2"
  },
  "language_info": {
   "codemirror_mode": {
    "name": "ipython",
    "version": 2
   },
   "file_extension": ".py",
   "mimetype": "text/x-python",
   "name": "python",
   "nbconvert_exporter": "python",
   "pygments_lexer": "ipython2",
   "version": "2.7.10"
  }
 },
 "nbformat": 4,
 "nbformat_minor": 0
}
