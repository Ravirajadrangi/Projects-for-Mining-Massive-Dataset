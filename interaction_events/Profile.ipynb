{
 "cells": [
  {
   "cell_type": "code",
   "execution_count": 1,
   "metadata": {
    "collapsed": false
   },
   "outputs": [],
   "source": [
    "import csv, re\n",
    "import numpy as np\n",
    "import matplotlib.pyplot as plt\n",
    "%matplotlib inline\n",
    "video_names = {}\n",
    "## need to change the file name to STDIN afterwards\n",
    "with open('../../data/heatMaps_EarthSciences_ResGeo202_Spring2015_AllLearners.csv','r') as csvfile :\n",
    "    lines = csv.reader(csvfile, delimiter = ',', quotechar = '\"')\n",
    "    count = 0\n",
    "    for line in lines :\n",
    "        videoId,second,numViews = line\n",
    "        count += 1\n",
    "        if videoId == 'videoId':\n",
    "            continue\n",
    "            \n",
    "        if videoId not in video_names:\n",
    "            video_names[videoId] = video = {}\n",
    "            video['time'] = [int(second)]\n",
    "            video['views'] = [int(numViews)]\n",
    "        else:\n",
    "            video = video_names[videoId]\n",
    "            video['time'].append(int(second))\n",
    "            video['views'].append(int(numViews))\n",
    "            "
   ]
  },
  {
   "cell_type": "code",
   "execution_count": 24,
   "metadata": {
    "collapsed": false
   },
   "outputs": [
    {
     "name": "stdout",
     "output_type": "stream",
     "text": [
      "3161\n"
     ]
    }
   ],
   "source": [
    "for video in video_names.keys()[49:50]:\n",
    "    print max(video_names[video]['time'])"
   ]
  },
  {
   "cell_type": "code",
   "execution_count": 14,
   "metadata": {
    "collapsed": false
   },
   "outputs": [
    {
     "name": "stdout",
     "output_type": "stream",
     "text": [
      "[290, 292, 295, 289, 291, 292, 294, 292, 290, 287, 283, 283, 280, 278, 279, 282, 282, 282, 279, 279, 278, 278, 281, 283, 286, 288, 287, 288, 284, 283, 280, 284, 281, 284, 282, 280, 280, 281, 279, 282, 282, 281, 284, 287, 283, 286, 289, 284, 286, 283, 284, 282, 284, 285, 286, 286, 288, 289, 285, 286, 285, 286, 284, 285, 284, 285, 282, 284, 286, 279, 278, 282, 280, 281, 284, 284, 280, 279, 279, 277, 277, 276, 278, 277, 294, 27, 26, 26, 28, 27, 27, 29, 27, 28, 28, 27, 29, 27, 28, 29, 33, 33, 36, 34, 33, 32, 31, 35, 33, 31, 30, 31, 30, 35, 34, 31, 30, 31, 31, 33, 35, 34, 35, 31, 31, 30, 28, 30, 29, 33, 29, 29, 30, 29, 28, 29, 28, 28, 28, 28, 24, 25, 26, 28, 28, 27, 28, 26, 27, 26, 26, 26, 26, 25, 25, 28, 28, 28, 28, 27, 27, 26, 26, 27, 25, 25, 24, 22, 22, 21, 20, 19, 20, 19, 21, 21, 22, 25, 24, 23, 24, 22, 21, 22, 22, 22, 22, 23, 22, 21, 20, 19, 19, 21, 20, 16, 18, 17, 16, 15]\n"
     ]
    },
    {
     "data": {
      "image/png": "[encoded data removed]",
      "text/plain": [
       "<matplotlib.figure.Figure at 0x100637050>"
      ]
     },
     "metadata": {},
     "output_type": "display_data"
    }
   ],
   "source": [
    "for \n",
    "plt.plot(video_names[video]['time'],video_names[video]['views'])\n",
    "print video_names[video]['views'][800:1000]"
   ]
  },
  {
   "cell_type": "code",
   "execution_count": 3,
   "metadata": {
    "collapsed": false
   },
   "outputs": [
    {
     "name": "stdout",
     "output_type": "stream",
     "text": [
      "5000000\n",
      "10000000\n",
      "15000000\n",
      "20000000\n",
      "25000000\n",
      "30000000\n",
      "35000000\n",
      "40000000\n"
     ]
    }
   ],
   "source": [
    "video_user = {}\n",
    "with open('../../data/test_results.csv','r') as csvfile :\n",
    "    lines = csv.reader(csvfile, delimiter = ',', quotechar = '\"')\n",
    "    count = 0\n",
    "    for line in lines :\n",
    "        count+= 1\n",
    "        if line == ['videoId', 'second', 'numViews']:\n",
    "            continue\n",
    "        else:\n",
    "            videoID,userID,second,numViews = line\n",
    "\n",
    "            if videoID not in video_user:\n",
    "                video_user[videoID] = {}\n",
    "                \n",
    "            if userID not in video_user[videoID]:\n",
    "                video_user[videoID][userID] = {}\n",
    "                video_user[videoID][userID]['time'] = [int(second)]\n",
    "                video_user[videoID][userID]['views'] = [int(numViews)]\n",
    "            else:\n",
    "                video_user[videoID][userID]['time'].append(int(second))\n",
    "                video_user[videoID][userID]['views'].append(int(numViews))\n",
    "        if count % 5000000 == 0:\n",
    "            print count"
   ]
  },
  {
   "cell_type": "code",
   "execution_count": 25,
   "metadata": {
    "collapsed": false
   },
   "outputs": [],
   "source": [
    "video = 'i4x-EarthSciences-ResGeo202-video-1ef94a59c89e4a03a529b46b002b889f'\n",
    "maxTime = 0\n",
    "for user in video_user[video].keys():\n",
    "    if len(video_user[video][user]['time']) > maxTime:\n",
    "        maxTime = max(video_user[video][user]['time'])\n",
    "        maxUser = user\n"
   ]
  },
  {
   "cell_type": "code",
   "execution_count": 27,
   "metadata": {
    "collapsed": false
   },
   "outputs": [
    {
     "name": "stdout",
     "output_type": "stream",
     "text": [
      "cb8439ec78e9f3c9a3ffa95f7ff9cf3e998e8a4c\n"
     ]
    },
    {
     "data": {
      "image/png": "[encoded data removed]",
      "text/plain": [
       "<matplotlib.figure.Figure at 0x165e55190>"
      ]
     },
     "metadata": {},
     "output_type": "display_data"
    }
   ],
   "source": [
    "user = maxUser\n",
    "plt.plot(video_user[video][user]['time'],video_user[video][user]['views'])\n",
    "print maxUser"
   ]
  },
  {
   "cell_type": "code",
   "execution_count": 82,
   "metadata": {
    "collapsed": false
   },
   "outputs": [
    {
     "data": {
      "text/plain": [
       "['b8fc530f2bf785c39f00aa08a60aac5dc450c6ee',\n",
       " '0fb0968c40440b2617abb8f0c4a1181e5f351627',\n",
       " 'e4c828cac1b0e67a72e46ea4bdeb863e857d4cfb',\n",
       " '98555eb3f912d9c547c46390723a80f59182977d',\n",
       " '0897363e785fc1d4b60b4673465dd215152b7bec']"
      ]
     },
     "execution_count": 82,
     "metadata": {},
     "output_type": "execute_result"
    }
   ],
   "source": [
    "video_user[video].keys()[5:10]"
   ]
  },
  {
   "cell_type": "code",
   "execution_count": 67,
   "metadata": {
    "collapsed": false
   },
   "outputs": [
    {
     "name": "stdout",
     "output_type": "stream",
     "text": [
      "\n"
     ]
    }
   ],
   "source": [
    "list = [1, 2, 3, 4, 5]"
   ]
  },
  {
   "cell_type": "code",
   "execution_count": 68,
   "metadata": {
    "collapsed": false
   },
   "outputs": [
    {
     "ename": "TypeError",
     "evalue": "'int' object is not callable",
     "output_type": "error",
     "traceback": [
      "\u001b[0;31m---------------------------------------------------------------------------\u001b[0m",
      "\u001b[0;31mTypeError\u001b[0m                                 Traceback (most recent call last)",
      "\u001b[0;32m<ipython-input-68-bc68b5f1b4ae>\u001b[0m in \u001b[0;36m<module>\u001b[0;34m()\u001b[0m\n\u001b[0;32m----> 1\u001b[0;31m \u001b[0mmax\u001b[0m\u001b[0;34m(\u001b[0m\u001b[0mlist\u001b[0m\u001b[0;34m)\u001b[0m\u001b[0;34m\u001b[0m\u001b[0m\n\u001b[0m",
      "\u001b[0;31mTypeError\u001b[0m: 'int' object is not callable"
     ]
    }
   ],
   "source": [
    "max(list)"
   ]
  },
  {
   "cell_type": "code",
   "execution_count": 64,
   "metadata": {
    "collapsed": false
   },
   "outputs": [
    {
     "name": "stdout",
     "output_type": "stream",
     "text": [
      " Max value element : "
     ]
    },
    {
     "ename": "TypeError",
     "evalue": "'int' object is not callable",
     "output_type": "error",
     "traceback": [
      "\u001b[0;31m---------------------------------------------------------------------------\u001b[0m",
      "\u001b[0;31mTypeError\u001b[0m                                 Traceback (most recent call last)",
      "\u001b[0;32m<ipython-input-64-9353f50b0424>\u001b[0m in \u001b[0;36m<module>\u001b[0;34m()\u001b[0m\n\u001b[1;32m      1\u001b[0m \u001b[0mlist1\u001b[0m\u001b[0;34m,\u001b[0m \u001b[0mlist2\u001b[0m \u001b[0;34m=\u001b[0m \u001b[0;34m[\u001b[0m\u001b[0;36m123\u001b[0m\u001b[0;34m,\u001b[0m \u001b[0;34m'xyz'\u001b[0m\u001b[0;34m,\u001b[0m \u001b[0;34m'zara'\u001b[0m\u001b[0;34m,\u001b[0m \u001b[0;34m'abc'\u001b[0m\u001b[0;34m]\u001b[0m\u001b[0;34m,\u001b[0m \u001b[0;34m[\u001b[0m\u001b[0;36m456\u001b[0m\u001b[0;34m,\u001b[0m \u001b[0;36m700\u001b[0m\u001b[0;34m,\u001b[0m \u001b[0;36m200\u001b[0m\u001b[0;34m]\u001b[0m\u001b[0;34m\u001b[0m\u001b[0m\n\u001b[1;32m      2\u001b[0m \u001b[0;34m\u001b[0m\u001b[0m\n\u001b[0;32m----> 3\u001b[0;31m \u001b[0;32mprint\u001b[0m \u001b[0;34m\"Max value element : \"\u001b[0m\u001b[0;34m,\u001b[0m \u001b[0mmax\u001b[0m\u001b[0;34m(\u001b[0m\u001b[0mlist1\u001b[0m\u001b[0;34m)\u001b[0m\u001b[0;34m\u001b[0m\u001b[0m\n\u001b[0m\u001b[1;32m      4\u001b[0m \u001b[0;32mprint\u001b[0m \u001b[0;34m\"Max value element : \"\u001b[0m\u001b[0;34m,\u001b[0m \u001b[0mmax\u001b[0m\u001b[0;34m(\u001b[0m\u001b[0mlist2\u001b[0m\u001b[0;34m)\u001b[0m\u001b[0;34m\u001b[0m\u001b[0m\n",
      "\u001b[0;31mTypeError\u001b[0m: 'int' object is not callable"
     ]
    }
   ],
   "source": [
    "list1, list2 = [123, 'xyz', 'zara', 'abc'], [456, 700, 200]\n",
    "\n",
    "print \"Max value element : \", max(list1)\n",
    "print \"Max value element : \", max(list2)"
   ]
  },
  {
   "cell_type": "code",
   "execution_count": 63,
   "metadata": {
    "collapsed": false
   },
   "outputs": [
    {
     "ename": "TypeError",
     "evalue": "'int' object is not callable",
     "output_type": "error",
     "traceback": [
      "\u001b[0;31m---------------------------------------------------------------------------\u001b[0m",
      "\u001b[0;31mTypeError\u001b[0m                                 Traceback (most recent call last)",
      "\u001b[0;32m<ipython-input-63-ac9ec2ba9b75>\u001b[0m in \u001b[0;36m<module>\u001b[0;34m()\u001b[0m\n\u001b[0;32m----> 1\u001b[0;31m \u001b[0mmax\u001b[0m\u001b[0;34m(\u001b[0m\u001b[0;36m1\u001b[0m\u001b[0;34m,\u001b[0m\u001b[0;36m2\u001b[0m\u001b[0;34m)\u001b[0m\u001b[0;34m\u001b[0m\u001b[0m\n\u001b[0m",
      "\u001b[0;31mTypeError\u001b[0m: 'int' object is not callable"
     ]
    }
   ],
   "source": [
    "max(1,2)"
   ]
  },
  {
   "cell_type": "code",
   "execution_count": 71,
   "metadata": {
    "collapsed": true
   },
   "outputs": [],
   "source": [
    "del max"
   ]
  },
  {
   "cell_type": "code",
   "execution_count": 22,
   "metadata": {
    "collapsed": false
   },
   "outputs": [
    {
     "data": {
      "text/plain": [
       "'i4x-EarthSciences-ResGeo202-video-b23cdedde3f042b599a227cbd51b1d9f'"
      ]
     },
     "execution_count": 22,
     "metadata": {},
     "output_type": "execute_result"
    }
   ],
   "source": [
    "video_names.keys()[50]"
   ]
  },
  {
   "cell_type": "code",
   "execution_count": null,
   "metadata": {
    "collapsed": true
   },
   "outputs": [],
   "source": []
  }
 ],
 "metadata": {
  "kernelspec": {
   "display_name": "Python 2",
   "language": "python",
   "name": "python2"
  },
  "language_info": {
   "codemirror_mode": {
    "name": "ipython",
    "version": 2
   },
   "file_extension": ".py",
   "mimetype": "text/x-python",
   "name": "python",
   "nbconvert_exporter": "python",
   "pygments_lexer": "ipython2",
   "version": "2.7.11"
  }
 },
 "nbformat": 4,
 "nbformat_minor": 0
}
