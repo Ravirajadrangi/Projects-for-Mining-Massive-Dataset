{
 "cells": [
  {
   "cell_type": "code",
   "execution_count": 44,
   "metadata": {
    "collapsed": false
   },
   "outputs": [],
   "source": [
    "#######################################################################################################################\n",
    "## Parse Event Log \n",
    "## Written by: Sijun He\n",
    "## Last Modified by: Sijun He\n",
    "#######################################################################################################################\n",
    "## The code extracts interaction events out of the log and store it in a dict for further development\n",
    "## 1. Dictionary video_names:  \n",
    "##      keys: the names of each video in the course\n",
    "##      values: dictionarys (video) of data for each video\n",
    "## 2. Dictionary video:  \n",
    "##      keys: the names of users that watched the video\n",
    "##      values: dictionarys (user) of data for each user\n",
    "## 3. Dictionary user:  \n",
    "##      keys: the four types of different events: 'play_video','stop_video','pause_video','seek_video'\n",
    "##      values: a list of datas, for 'seek_video', the data is a tuple of ((old_time, new_time)\n",
    "##                               for others, the data is just video_current_time\n",
    "#######################################################################################################################\n",
    "import csv, re\n",
    "import numpy as np\n",
    "fileName = 'EarthSciences_ResGeo202_Spring2015_VideoInteraction.csv'\n",
    "video_names = [] ## a list for all the video names\n",
    "video_name_id_matching = {} ## one on one matching for video_name to videoID\n",
    "user_watched_video = {} ## a dictionary for the video each user watched\n",
    "event_type = ['play_video','stop_video','pause_video','seek_video']\n",
    "with open('../../data/' + fileName,'r') as csvfile :\n",
    "    lines = csv.reader(csvfile, delimiter = ',', quotechar = '\"')\n",
    "    for line in lines :       \n",
    "        if line[0] in event_type and re.match('Unit\\s\\d+\\.\\d+',line[1]):\n",
    "            if line[1] not in video_names:\n",
    "                video_names.append(line[1])\n",
    "                video_name_id_matching[line[14]] = line[1]\n",
    "            if line[13] not in user_watched_video:\n",
    "                user_watched_video[line[13]] = []\n",
    "            if line[1] not in user_watched_video[line[13]]:\n",
    "                user_watched_video[line[13]].append(line[1])\n",
    "\n",
    "## Sorted videos in chronological order \n",
    "sorted_video_name = sorted(video_names, key=lambda video: float(re.search('(?<=Unit)\\s\\d+\\.\\d+',video).group(0)))\n",
    "\n",
    "## Create a matrix of user - video watched relation \n",
    "## 1 = user watched this video\n",
    "## 0 = user didn't watch this video\n",
    "outputName = 'EarthSciences_ResGeo202_Spring2015_UserVideo_Matrix.csv'\n",
    "outputFile = open(outputName, 'w')\n",
    "columnNames = 'UserName,'\n",
    "for video in sorted_video_name:\n",
    "    columnNames += (video + ',')\n",
    "columnNames = columnNames[:-1] + '\\n'\n",
    "outputFile.write(columnNames)\n",
    "for user in user_watched_video.keys():\n",
    "    newLine = user + ','\n",
    "    for video in sorted_video_name:\n",
    "        if video in user_watched_video[user]:\n",
    "            newLine += '1,'\n",
    "        else:\n",
    "            newLine += '0,'\n",
    "    newLine = newLine[:-1] + '\\n'\n",
    "    outputFile.write(newLine)"
   ]
  },
  {
   "cell_type": "code",
   "execution_count": 42,
   "metadata": {
    "collapsed": false
   },
   "outputs": [
    {
     "data": {
      "text/plain": [
       "'Unit 1.1 - Course Overvie'"
      ]
     },
     "execution_count": 42,
     "metadata": {},
     "output_type": "execute_result"
    }
   ],
   "source": [
    "user_watched_video['70e57033c52922dc01e9363090d3a0704ec6643f'][0][:-1]"
   ]
  },
  {
   "cell_type": "code",
   "execution_count": 29,
   "metadata": {
    "collapsed": false
   },
   "outputs": [
    {
     "data": {
      "text/plain": [
       "['Unit 2.2 - Relative Stress Magnitudes',\n",
       " 'Unit 1.1 - Course Overview',\n",
       " 'Unit 12.3 - Case Studies of Wellbore Stability 1, 2',\n",
       " 'Unit 12.4 - Case Studies of Wellbore Stability 3-5',\n",
       " 'Unit 12.5 - Case Studies of Wellbore Stability 6, 7',\n",
       " 'Unit 12.6 - Case Studies of Wellbore Stability 8, 9',\n",
       " 'Unit 9.2 - More on MiniFrac Tests',\n",
       " 'Unit 11.3 - Least Principle Stress in the Gulf of Mexico',\n",
       " 'Unit 11.4 - How NOT to Predict Shmin',\n",
       " 'Unit 2.3 - Absolute Stress Magnitudes',\n",
       " 'Unit 2.4 - Stress Variations',\n",
       " 'Unit 15.3 - Introduction to Dynamic Hydrocarbon Migration in The Gulf of Mexico',\n",
       " 'Unit 4.1 - Introduction to Rock Deformation Constitutive Laws',\n",
       " 'Unit 3.1 - Basic Concepts',\n",
       " 'Unit 1.2 - Overview of Units 2, 3',\n",
       " 'Unit 9.3 - Hydraulic Fracturing and Shmax from Wellbore Breakouts',\n",
       " 'Unit 2.1 - The Principal Stresses',\n",
       " 'Unit 6.3 - The Critically-Stressed Crust III',\n",
       " 'Unit 5.1 - Mohr-Columb Failure Criteria',\n",
       " 'Unit 1.3 -  Overview of Units 4-8',\n",
       " 'Unit 6.4 - Limits on Stress Magnitudes',\n",
       " 'Unit 10.4 - En Echelon Tensile Fractures',\n",
       " 'Unit 20.1 - Injection-Induced Earthquakes',\n",
       " 'Unit 4.3 - Viscoplasticity of Sands',\n",
       " 'Unit 12.1 - A Criterion for Wellbore Stability',\n",
       " 'Unit 12.2 - Well Construction',\n",
       " 'Unit 11.1 - Stress Orientations and Relative Magnitudes',\n",
       " 'Unit 11.2 - Absolute Stress Magnitudes in Sedimentary Basins',\n",
       " 'Unit 4.2 - Poroelasticity',\n",
       " 'Unit 19.1 - Shale Permeability and Sorption',\n",
       " 'Unit 15.2 - Fault Reactivation in the Northern North Sea',\n",
       " 'Unit 15.4 - Dynamic Hydrocarbon Migration at South Eugene Island',\n",
       " 'Unit 15.5 - South Eugene Island Hydrocarbon Column Heights',\n",
       " \"Unit 11.5 - What's Wrong with The Poisson's Ratio Model\",\n",
       " 'Unit 16.1 - Depletion and Stress Paths',\n",
       " 'Unit 14.4 - Observations and Modeling of Fault Damage Zones',\n",
       " 'Unit 15.1 - Sealing and Leaking Faults',\n",
       " 'Unit 19.2 - Long Period Long Duration Seismic Events',\n",
       " 'Unit 19.3 - Geomechanical Constraints on Fracture Networks',\n",
       " 'Unit 18.5 - Microseismic Events and Reservoir Stimulation',\n",
       " 'Unit 18.6 - Microseismic Events and Production',\n",
       " 'Unit 18.7 - Stimulation of Fracture Networks',\n",
       " 'Unit 3.3 - The Gulf of Mexico',\n",
       " 'Unit 18.1 - Opportunities of Shale Gas Production',\n",
       " 'Unit 18.2 - Horizontal Drilling and Multi-Stage Hydraulic Fracturing',\n",
       " 'Unit 18.3 - Need for Fundamental Research',\n",
       " 'Unit 18.4 - Physical Properties of Shale Gas Reservoir Rocks',\n",
       " 'Unit 3.2 - Pore Pressure Compartments',\n",
       " 'Unit 5.5 - Rock Strength from Geophysical Logs',\n",
       " 'Unit 5.6 - Rock Tensile Strength',\n",
       " 'Unit 7.3 - 3D Mohr Circles and Earthquake Focal Mechanisms',\n",
       " 'Unit 16.3 - Predicting Porosity and Permeability Changes',\n",
       " 'Unit 13.2 - Case Studies of Wellbore Stability 13',\n",
       " 'Unit 14.1 - Basic Concepts of Critically-Stressed Faults',\n",
       " 'Unit 3.6 - The Macondo Well',\n",
       " 'Unit 20.4 - Predicting Slip on Potentially Active Faults',\n",
       " 'Unit 5.2 - Other Failure Criteria',\n",
       " 'Unit 6.1 - The Critically-Stressed Crust I',\n",
       " 'Unit 1.4 - Overview of Units 9-17',\n",
       " 'Unit 1.5 - Overview of Units 18-20',\n",
       " 'Unit 8.2 - Compressional Wellbore Failure I',\n",
       " 'Unit 8.4 - Wellbore Breakouts from Caliper Logs',\n",
       " 'Unit 3.5 - Pore Pressure Prediction',\n",
       " 'Unit 17.3 - Depletion and Subsidence in Louisiana',\n",
       " 'Unit 5.4 - DARS',\n",
       " 'Unit 6.5 - Rate and State Friction',\n",
       " 'Unit 20.2 - Oklahoma Seismicity',\n",
       " 'Unit 20.3 - Triggered Slip on Basement Faults',\n",
       " 'Unit 3.4 - Mechanisms of Overpressure',\n",
       " 'Unit 6.2 - The Critically-Stressed Crust II',\n",
       " 'Unit 8.1 - The Kirsch Equations',\n",
       " 'Unit 8.3 - Compressional Wellbore Failure II',\n",
       " 'Unit 5.3 - End Cap Failure Criteria',\n",
       " 'Unit 17.1 - Stress Rotations Associated with Depletion',\n",
       " 'Unit 17.2 - Wetlands Loss in Louisiana',\n",
       " 'Unit 10.2 - Tensile Fractures and Borehole Breakouts in Deviated Wells',\n",
       " 'Unit 7.1 - Opening Mode Fractures and Shear Faults',\n",
       " 'Unit 7.2 - Observations of Fractures and Faults at Depth',\n",
       " 'Unit 5.7 - Vertical Hydraulic Fracture Growth',\n",
       " 'Unit 14.2 - Critically-Stressed Faults in Wells',\n",
       " 'Unit 16.2 - Production-Induced Faulting and DARS',\n",
       " 'Unit 9.4 - Shmax from Drilling-Induced Tensile Fractures',\n",
       " 'Unit 9.1 - MiniFrac Tests and LOTs',\n",
       " 'Unit 8.5 - Drilling-Induced Tensile Fractures',\n",
       " 'Unit 8.6 - More on Wellbore Breakouts',\n",
       " 'Unit 9.5 - Active Faults in Reservoirs',\n",
       " 'Unit 14.3 - Examples of Critically-Stressed Faults from Southeast Asia',\n",
       " 'Unit 10.3 - Estimating Stress from Failure of Deviated Wells',\n",
       " 'Unit 19.5 - Environmental Protection ',\n",
       " 'Unit 19.4 - Watch Out for Faults!',\n",
       " 'Unit 13.1 - Case Studies of Wellbore Stability 10-12',\n",
       " 'Unit 13.3 - Case Studies of Wellbore Stability 14',\n",
       " 'Unit 13.4 - Case Studies of Wellbore Stability 15, Wellbore Ballooning']"
      ]
     },
     "execution_count": 29,
     "metadata": {},
     "output_type": "execute_result"
    }
   ],
   "source": [
    "video_names"
   ]
  },
  {
   "cell_type": "code",
   "execution_count": 31,
   "metadata": {
    "collapsed": false
   },
   "outputs": [
    {
     "data": {
      "text/plain": [
       "['Unit 1.1 - Course Overview',\n",
       " 'Unit 1.2 - Overview of Units 2, 3',\n",
       " 'Unit 1.3 -  Overview of Units 4-8',\n",
       " 'Unit 1.4 - Overview of Units 9-17',\n",
       " 'Unit 1.5 - Overview of Units 18-20',\n",
       " 'Unit 2.1 - The Principal Stresses',\n",
       " 'Unit 2.2 - Relative Stress Magnitudes',\n",
       " 'Unit 2.3 - Absolute Stress Magnitudes',\n",
       " 'Unit 2.4 - Stress Variations',\n",
       " 'Unit 3.1 - Basic Concepts',\n",
       " 'Unit 3.2 - Pore Pressure Compartments',\n",
       " 'Unit 3.3 - The Gulf of Mexico',\n",
       " 'Unit 3.4 - Mechanisms of Overpressure',\n",
       " 'Unit 3.5 - Pore Pressure Prediction',\n",
       " 'Unit 3.6 - The Macondo Well',\n",
       " 'Unit 4.1 - Introduction to Rock Deformation Constitutive Laws',\n",
       " 'Unit 4.2 - Poroelasticity',\n",
       " 'Unit 4.3 - Viscoplasticity of Sands',\n",
       " 'Unit 5.1 - Mohr-Columb Failure Criteria',\n",
       " 'Unit 5.2 - Other Failure Criteria',\n",
       " 'Unit 5.3 - End Cap Failure Criteria',\n",
       " 'Unit 5.4 - DARS',\n",
       " 'Unit 5.5 - Rock Strength from Geophysical Logs',\n",
       " 'Unit 5.6 - Rock Tensile Strength',\n",
       " 'Unit 5.7 - Vertical Hydraulic Fracture Growth',\n",
       " 'Unit 6.1 - The Critically-Stressed Crust I',\n",
       " 'Unit 6.2 - The Critically-Stressed Crust II',\n",
       " 'Unit 6.3 - The Critically-Stressed Crust III',\n",
       " 'Unit 6.4 - Limits on Stress Magnitudes',\n",
       " 'Unit 6.5 - Rate and State Friction',\n",
       " 'Unit 7.1 - Opening Mode Fractures and Shear Faults',\n",
       " 'Unit 7.2 - Observations of Fractures and Faults at Depth',\n",
       " 'Unit 7.3 - 3D Mohr Circles and Earthquake Focal Mechanisms',\n",
       " 'Unit 8.1 - The Kirsch Equations',\n",
       " 'Unit 8.2 - Compressional Wellbore Failure I',\n",
       " 'Unit 8.3 - Compressional Wellbore Failure II',\n",
       " 'Unit 8.4 - Wellbore Breakouts from Caliper Logs',\n",
       " 'Unit 8.5 - Drilling-Induced Tensile Fractures',\n",
       " 'Unit 8.6 - More on Wellbore Breakouts',\n",
       " 'Unit 9.1 - MiniFrac Tests and LOTs',\n",
       " 'Unit 9.2 - More on MiniFrac Tests',\n",
       " 'Unit 9.3 - Hydraulic Fracturing and Shmax from Wellbore Breakouts',\n",
       " 'Unit 9.4 - Shmax from Drilling-Induced Tensile Fractures',\n",
       " 'Unit 9.5 - Active Faults in Reservoirs',\n",
       " 'Unit 10.2 - Tensile Fractures and Borehole Breakouts in Deviated Wells',\n",
       " 'Unit 10.3 - Estimating Stress from Failure of Deviated Wells',\n",
       " 'Unit 10.4 - En Echelon Tensile Fractures',\n",
       " 'Unit 11.1 - Stress Orientations and Relative Magnitudes',\n",
       " 'Unit 11.2 - Absolute Stress Magnitudes in Sedimentary Basins',\n",
       " 'Unit 11.3 - Least Principle Stress in the Gulf of Mexico',\n",
       " 'Unit 11.4 - How NOT to Predict Shmin',\n",
       " \"Unit 11.5 - What's Wrong with The Poisson's Ratio Model\",\n",
       " 'Unit 12.1 - A Criterion for Wellbore Stability',\n",
       " 'Unit 12.2 - Well Construction',\n",
       " 'Unit 12.3 - Case Studies of Wellbore Stability 1, 2',\n",
       " 'Unit 12.4 - Case Studies of Wellbore Stability 3-5',\n",
       " 'Unit 12.5 - Case Studies of Wellbore Stability 6, 7',\n",
       " 'Unit 12.6 - Case Studies of Wellbore Stability 8, 9',\n",
       " 'Unit 13.1 - Case Studies of Wellbore Stability 10-12',\n",
       " 'Unit 13.2 - Case Studies of Wellbore Stability 13',\n",
       " 'Unit 13.3 - Case Studies of Wellbore Stability 14',\n",
       " 'Unit 13.4 - Case Studies of Wellbore Stability 15, Wellbore Ballooning',\n",
       " 'Unit 14.1 - Basic Concepts of Critically-Stressed Faults',\n",
       " 'Unit 14.2 - Critically-Stressed Faults in Wells',\n",
       " 'Unit 14.3 - Examples of Critically-Stressed Faults from Southeast Asia',\n",
       " 'Unit 14.4 - Observations and Modeling of Fault Damage Zones',\n",
       " 'Unit 15.1 - Sealing and Leaking Faults',\n",
       " 'Unit 15.2 - Fault Reactivation in the Northern North Sea',\n",
       " 'Unit 15.3 - Introduction to Dynamic Hydrocarbon Migration in The Gulf of Mexico',\n",
       " 'Unit 15.4 - Dynamic Hydrocarbon Migration at South Eugene Island',\n",
       " 'Unit 15.5 - South Eugene Island Hydrocarbon Column Heights',\n",
       " 'Unit 16.1 - Depletion and Stress Paths',\n",
       " 'Unit 16.2 - Production-Induced Faulting and DARS',\n",
       " 'Unit 16.3 - Predicting Porosity and Permeability Changes',\n",
       " 'Unit 17.1 - Stress Rotations Associated with Depletion',\n",
       " 'Unit 17.2 - Wetlands Loss in Louisiana',\n",
       " 'Unit 17.3 - Depletion and Subsidence in Louisiana',\n",
       " 'Unit 18.1 - Opportunities of Shale Gas Production',\n",
       " 'Unit 18.2 - Horizontal Drilling and Multi-Stage Hydraulic Fracturing',\n",
       " 'Unit 18.3 - Need for Fundamental Research',\n",
       " 'Unit 18.4 - Physical Properties of Shale Gas Reservoir Rocks',\n",
       " 'Unit 18.5 - Microseismic Events and Reservoir Stimulation',\n",
       " 'Unit 18.6 - Microseismic Events and Production',\n",
       " 'Unit 18.7 - Stimulation of Fracture Networks',\n",
       " 'Unit 19.1 - Shale Permeability and Sorption',\n",
       " 'Unit 19.2 - Long Period Long Duration Seismic Events',\n",
       " 'Unit 19.3 - Geomechanical Constraints on Fracture Networks',\n",
       " 'Unit 19.4 - Watch Out for Faults!',\n",
       " 'Unit 19.5 - Environmental Protection ',\n",
       " 'Unit 20.1 - Injection-Induced Earthquakes',\n",
       " 'Unit 20.2 - Oklahoma Seismicity',\n",
       " 'Unit 20.3 - Triggered Slip on Basement Faults',\n",
       " 'Unit 20.4 - Predicting Slip on Potentially Active Faults']"
      ]
     },
     "execution_count": 31,
     "metadata": {},
     "output_type": "execute_result"
    }
   ],
   "source": [
    "sorted(video_names, key=lambda video: float(re.search('(?<=Unit)\\s\\d+\\.\\d+',video).group(0)))"
   ]
  },
  {
   "cell_type": "code",
   "execution_count": 28,
   "metadata": {
    "collapsed": false
   },
   "outputs": [
    {
     "name": "stdout",
     "output_type": "stream",
     "text": [
      "yes\n"
     ]
    }
   ],
   "source": [
    "if re.match('Unit\\s\\d+\\.\\d+','Unit 1.1'):\n",
    "    print \"yes\""
   ]
  },
  {
   "cell_type": "code",
   "execution_count": null,
   "metadata": {
    "collapsed": true
   },
   "outputs": [],
   "source": []
  }
 ],
 "metadata": {
  "kernelspec": {
   "display_name": "Python 2",
   "language": "python",
   "name": "python2"
  },
  "language_info": {
   "codemirror_mode": {
    "name": "ipython",
    "version": 2
   },
   "file_extension": ".py",
   "mimetype": "text/x-python",
   "name": "python",
   "nbconvert_exporter": "python",
   "pygments_lexer": "ipython2",
   "version": "2.7.11"
  }
 },
 "nbformat": 4,
 "nbformat_minor": 0
}
