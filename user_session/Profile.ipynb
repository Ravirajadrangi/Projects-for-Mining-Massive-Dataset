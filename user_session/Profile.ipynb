{
 "cells": [
  {
   "cell_type": "code",
   "execution_count": 169,
   "metadata": {
    "collapsed": true
   },
   "outputs": [],
   "source": [
    "import csv, datetime, math\n",
    "import matplotlib.pyplot as plt\n",
    "%matplotlib inline"
   ]
  },
  {
   "cell_type": "code",
   "execution_count": 170,
   "metadata": {
    "collapsed": true
   },
   "outputs": [],
   "source": [
    "## Get ResponseID - UserID matching\n",
    "with open('Engineering_Networking-SP_SelfPaced_survey_response_metadata.csv', 'r') as csvfile :\t\n",
    "    lines = csv.reader(csvfile, delimiter = ',', quotechar = '\"')\n",
    "    responseUserID={}\n",
    "    for line in lines :\n",
    "        if line[0] not in responseUserID:\n",
    "            responseUserID[line[0]] = line[1]\n"
   ]
  },
  {
   "cell_type": "code",
   "execution_count": 171,
   "metadata": {
    "collapsed": false
   },
   "outputs": [],
   "source": [
    "## Get Survey Data, only get the ID that has a matching \n",
    "with open('Engineering_Networking-SP_SelfPaced_survey_responses.csv', 'r') as csvfile :\t\n",
    "    lines = csv.reader(csvfile, delimiter = ',', quotechar = '\"')\n",
    "    userScore={}\n",
    "    for line in lines :\n",
    "        if (line[2] == \"Q1.1\" and line[4] != ''):\n",
    "            if line[4] not in responseUserID:\n",
    "                userScore[responseUserID[line[1]]] = line[4]"
   ]
  },
  {
   "cell_type": "code",
   "execution_count": 172,
   "metadata": {
    "collapsed": false
   },
   "outputs": [],
   "source": [
    "## get events data, only get the events with a known ID\n",
    "with open('engagement_Engineering_Networking-SP_SelfPaced_allData.csv', 'r') as csvfile :\t\n",
    "    lines = csv.reader(csvfile, delimiter = ',', quotechar = '\"')\n",
    "    userActivity= {}\n",
    "    for line in lines :\n",
    "        if line[2] in userScore:\n",
    "            if line[2] not in userActivity:\n",
    "                userActivity[line[2]] = []\n",
    "            userActivity[line[2]].append((line[3], line[4], line[5], line[6]))\n",
    "            "
   ]
  },
  {
   "cell_type": "code",
   "execution_count": 173,
   "metadata": {
    "collapsed": false,
    "scrolled": true
   },
   "outputs": [],
   "source": [
    "## parse events data and compute num of sessions \n",
    "def parseEvent(filename):\n",
    "    timeHistory = []\n",
    "    numEvents = []\n",
    "    for i in range(len(userActivity[filename])):\n",
    "        event = userActivity[filename][i]\n",
    "        eventCount = float(event[3])\n",
    "        sessionLength = float(event[2])\n",
    "        dates = event[0]\n",
    "        year, month, day = (int(x) for x in dates.split('-'))\n",
    "        times = event[1]\n",
    "        hour, miniute, second = (int(x) for x in times.split(':'))\n",
    "        timeStamp = datetime.datetime(year, month, day, hour, miniute, second)\n",
    "        ## 5 minute time delta window\n",
    "        timeDelta = datetime.timedelta(0,600)\n",
    "        if sessionLength > 600:\n",
    "            ## num of events every 10 minutes (600s)\n",
    "            averageEvent = eventCount / sessionLength * 600\n",
    "            numWindow = int(sessionLength/600)\n",
    "            for j in range(numWindow):\n",
    "                timeStamp += timeDelta\n",
    "                timeHistory.append(timeStamp)\n",
    "                numEvents.append(averageEvent)\n",
    "        else:\n",
    "            timeHistory.append(timeStamp)\n",
    "            numEvents.append(eventCount)\n",
    "    return timeHistory, numEvents"
   ]
  },
  {
   "cell_type": "code",
   "execution_count": 174,
   "metadata": {
    "collapsed": false
   },
   "outputs": [],
   "source": [
    "def plotUserProfile(username):\n",
    "    timeHistory, numEvents = parseEvent(username)\n",
    "    plt.figure(figsize=(15,10))\n",
    "    barwidth = 0.1\n",
    "    plt.bar(timeHistory, numEvents, barwidth)\n",
    "    #plt.fill_between(timeHistory, 0, numEvents)\n",
    "    plt.xticks(rotation=70)\n",
    "    plt.suptitle('UserName: ' + username + \"   User Score: \" + userScore[username], fontsize=20)\n",
    "    "
   ]
  },
  {
   "cell_type": "code",
   "execution_count": 175,
   "metadata": {
    "collapsed": false
   },
   "outputs": [
    {
     "data": {
      "image/png": "[encoded data removed]",
      "text/plain": [
       "<matplotlib.figure.Figure at 0x10d4aba90>"
      ]
     },
     "metadata": {},
     "output_type": "display_data"
    }
   ],
   "source": [
    "plotUserProfile('1a6427afcec7e011730b4c41131581fbcb8d0379')"
   ]
  },
  {
   "cell_type": "code",
   "execution_count": 140,
   "metadata": {
    "collapsed": false
   },
   "outputs": [
    {
     "data": {
      "text/plain": [
       "['828e862084bf55517715d16b61bb89134067b64e',\n",
       " 'bc868c81b8b8f4f6c1b6b415b92bd8218ecd2a4f',\n",
       " '1a6427afcec7e011730b4c41131581fbcb8d0379',\n",
       " 'c0b4eea902f218d0bbf1de40ca3e0545d6f7e7a7',\n",
       " 'cc389fe91088dc31bafdd33feabd0cc3a72c7c95',\n",
       " '6cf41d0a6ba3d83d2ca9fa0cb8c91c831171c14a',\n",
       " 'e563148ededcabefec7fae1ab5e31a8c1238e96a',\n",
       " '2c74c428efc0a772199859b91d6be117b3572f56',\n",
       " '3b41b2187700cee3e24ae4ccc7cb38524010c04f',\n",
       " '2df20efaaf1ae742464e7711066b0b653ea311df']"
      ]
     },
     "execution_count": 140,
     "metadata": {},
     "output_type": "execute_result"
    }
   ],
   "source": [
    "userActivity.keys()[:10]"
   ]
  },
  {
   "cell_type": "code",
   "execution_count": 165,
   "metadata": {
    "collapsed": false
   },
   "outputs": [
    {
     "data": {
      "text/plain": [
       "[('2015-06-23', '17:27:52', '402', '2'),\n",
       " ('2015-06-24', '19:01:27', '133', '9'),\n",
       " ('2015-06-25', '18:11:37', '71', '10'),\n",
       " ('2015-06-25', '19:04:11', '680', '18'),\n",
       " ('2015-06-25', '20:05:45', '3256', '130'),\n",
       " ('2015-06-25', '21:45:13', '56', '5'),\n",
       " ('2015-06-26', '00:44:33', '42', '2'),\n",
       " ('2015-06-26', '11:26:58', '21', '3'),\n",
       " ('2015-06-26', '16:49:59', '311', '3'),\n",
       " ('2015-06-26', '17:34:29', '1286', '2'),\n",
       " ('2015-06-27', '14:07:57', '2354', '20'),\n",
       " ('2015-06-27', '16:10:05', '127', '2'),\n",
       " ('2015-06-27', '20:15:26', '2272', '14'),\n",
       " ('2015-06-27', '21:58:38', '9', '2'),\n",
       " ('2015-06-28', '15:27:04', '3701', '79'),\n",
       " ('2015-06-28', '19:23:14', '802', '15'),\n",
       " ('2015-06-30', '02:24:30', '1457', '15'),\n",
       " ('2015-06-30', '03:38:16', '1310', '14'),\n",
       " ('2015-07-02', '14:46:12', '738', '16'),\n",
       " ('2015-07-02', '20:51:50', '394', '56'),\n",
       " ('2015-07-03', '03:18:41', '4048', '91'),\n",
       " ('2015-07-03', '13:40:09', '530', '31'),\n",
       " ('2015-07-04', '17:30:18', '1886', '61'),\n",
       " ('2015-07-06', '02:22:00', '12', '2'),\n",
       " ('2015-07-08', '00:04:51', '1', '1'),\n",
       " ('2015-07-09', '19:53:41', '727', '43'),\n",
       " ('2015-07-11', '12:48:05', '21', '4'),\n",
       " ('2015-07-13', '00:19:10', '13', '3'),\n",
       " ('2015-07-13', '02:07:37', '3053', '59'),\n",
       " ('2015-07-17', '03:24:13', '67', '10'),\n",
       " ('2015-07-17', '17:44:15', '1207', '20'),\n",
       " ('2015-07-26', '23:22:42', '1', '1'),\n",
       " ('2015-07-27', '18:39:04', '933', '134'),\n",
       " ('2015-07-27', '22:33:14', '1', '1'),\n",
       " ('2015-08-11', '18:38:47', '1', '1'),\n",
       " ('2015-08-27', '00:32:05', '431', '31'),\n",
       " ('2015-09-02', '13:13:05', '1650', '40'),\n",
       " ('2015-09-02', '14:15:58', '1', '1')]"
      ]
     },
     "execution_count": 165,
     "metadata": {},
     "output_type": "execute_result"
    }
   ],
   "source": [
    "userActivity['1a6427afcec7e011730b4c41131581fbcb8d0379']"
   ]
  },
  {
   "cell_type": "code",
   "execution_count": null,
   "metadata": {
    "collapsed": true
   },
   "outputs": [],
   "source": []
  }
 ],
 "metadata": {
  "kernelspec": {
   "display_name": "Python 2",
   "language": "python",
   "name": "python2"
  },
  "language_info": {
   "codemirror_mode": {
    "name": "ipython",
    "version": 2
   },
   "file_extension": ".py",
   "mimetype": "text/x-python",
   "name": "python",
   "nbconvert_exporter": "python",
   "pygments_lexer": "ipython2",
   "version": "2.7.11"
  }
 },
 "nbformat": 4,
 "nbformat_minor": 0
}
